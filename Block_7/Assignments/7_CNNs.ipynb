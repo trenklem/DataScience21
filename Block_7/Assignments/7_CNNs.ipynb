{
 "cells": [
  {
   "cell_type": "markdown",
   "metadata": {
    "colab_type": "text",
    "id": "NgYV9F8IE2L_"
   },
   "source": [
    "# Assignment - Image Classification with CNNs\n",
    "![CIFAR10](https://miro.medium.com/max/964/1*syyml8q8s1Yt-iEea5m1Ag.png)\n",
    "\n",
    "[CIFAR 10](https://www.cs.toronto.edu/~kriz/cifar.html) is a small toy data set for image classifaction. \n",
    "\n",
    "* It has 60k images from ten diffenrent classes (like car, airplane, horse,..)\n",
    "* The RGB images are of size 32x32 pixels  "
   ]
  },
  {
   "cell_type": "code",
   "execution_count": null,
   "metadata": {
    "colab": {
     "base_uri": "https://localhost:8080/",
     "height": 71
    },
    "colab_type": "code",
    "id": "GiDFXXcUEy-G",
    "outputId": "e3cbff08-e3fe-45ad-fff1-6d5c31a5261c"
   },
   "outputs": [],
   "source": [
    "#import needed libs\n",
    "from __future__ import print_function\n",
    "import keras\n",
    "from keras.datasets import cifar10\n",
    "from keras.preprocessing.image import ImageDataGenerator\n",
    "from keras.models import Sequential\n",
    "from keras.layers import Dense, Dropout, Activation, Flatten\n",
    "from keras.layers import Conv2D, MaxPooling2D\n",
    "import os\n",
    "\n",
    "#some vars to controll the training -> use them in your code\n",
    "batch_size = 32\n",
    "num_classes = 10 #fixed!\n",
    "epochs = 10\n",
    "\n",
    "# Get the data, split between train and test sets:\n",
    "(x_train, y_train), (x_test, y_test) = cifar10.load_data()\n",
    "print('x_train shape:', x_train.shape)\n",
    "print(x_train.shape[0], 'train samples')\n",
    "print(x_test.shape[0], 'test samples')\n",
    "\n",
    "# Convert class vectors to binary class matrices.\n",
    "y_train = keras.utils.to_categorical(y_train, num_classes)\n",
    "y_test = keras.utils.to_categorical(y_test, num_classes)"
   ]
  },
  {
   "cell_type": "markdown",
   "metadata": {
    "colab_type": "text",
    "id": "vmocaCkIGOIR"
   },
   "source": [
    "## Task:\n",
    "* visualize some sample images from different classes\n",
    "* build and train the ***AlexNet*** CNN architecture from the lecture, use the following Keras layers:\n",
    "    * overview: https://keras.io/api/layers/\n",
    "    * 2d convolution: https://keras.io/api/layers/convolution_layers/convolution2d/\n",
    "    * Fully Connected (=Matrix Multiplication MLP): https://keras.io/api/layers/core_layers/dense/\n",
    "    * Pooling: https://keras.io/api/layers/pooling_layers/max_pooling2d/   \n",
    "* use 'relu' functions for the non-linear activation -> https://keras.io/api/layers/activation_layers/relu/\n",
    "* optimize the learning hyper-paramters to get the best  test accuracy"
   ]
  },
  {
   "cell_type": "code",
   "execution_count": null,
   "metadata": {
    "colab": {},
    "colab_type": "code",
    "id": "9p5AD8mJEzmL"
   },
   "outputs": [],
   "source": []
  }
 ],
 "metadata": {
  "colab": {
   "authorship_tag": "ABX9TyNf3zsQ09eG2yXL744V24PB",
   "name": "Exercise_2 .ipynb",
   "provenance": []
  },
  "kernelspec": {
   "display_name": "Python 3",
   "language": "python",
   "name": "python3"
  },
  "language_info": {
   "codemirror_mode": {
    "name": "ipython",
    "version": 3
   },
   "file_extension": ".py",
   "mimetype": "text/x-python",
   "name": "python",
   "nbconvert_exporter": "python",
   "pygments_lexer": "ipython3",
   "version": "3.7.6"
  }
 },
 "nbformat": 4,
 "nbformat_minor": 4
}
