{
 "cells": [
  {
   "cell_type": "markdown",
   "metadata": {
    "colab_type": "text",
    "id": "s3cL31DLqKEw"
   },
   "source": [
    "# Introduction to Keras \n",
    "\n",
    "![logo](https://keras.io/img/logo-small.png)\n",
    "\n",
    "Based on the Keras Intro of [fchollet](https://twitter.com/fchollet)<br>\n"
   ]
  },
  {
   "cell_type": "markdown",
   "metadata": {
    "colab_type": "text",
    "id": "r08NtXkwqKEy"
   },
   "source": [
    "## Setup\n"
   ]
  },
  {
   "cell_type": "code",
   "execution_count": 1,
   "metadata": {
    "colab": {},
    "colab_type": "code",
    "id": "shuBhAbNqKE0"
   },
   "outputs": [
    {
     "ename": "ModuleNotFoundError",
     "evalue": "No module named 'tensorflow'",
     "output_type": "error",
     "traceback": [
      "\u001b[0;31m---------------------------------------------------------------------------\u001b[0m",
      "\u001b[0;31mModuleNotFoundError\u001b[0m                       Traceback (most recent call last)",
      "\u001b[0;32m<ipython-input-1-6953c79fa041>\u001b[0m in \u001b[0;36m<module>\u001b[0;34m\u001b[0m\n\u001b[1;32m      1\u001b[0m \u001b[0;32mimport\u001b[0m \u001b[0mnumpy\u001b[0m \u001b[0;32mas\u001b[0m \u001b[0mnp\u001b[0m\u001b[0;34m\u001b[0m\u001b[0;34m\u001b[0m\u001b[0m\n\u001b[0;32m----> 2\u001b[0;31m \u001b[0;32mimport\u001b[0m \u001b[0mtensorflow\u001b[0m \u001b[0;32mas\u001b[0m \u001b[0mtf\u001b[0m\u001b[0;34m\u001b[0m\u001b[0;34m\u001b[0m\u001b[0m\n\u001b[0m\u001b[1;32m      3\u001b[0m \u001b[0;32mfrom\u001b[0m \u001b[0mtensorflow\u001b[0m \u001b[0;32mimport\u001b[0m \u001b[0mkeras\u001b[0m\u001b[0;34m\u001b[0m\u001b[0;34m\u001b[0m\u001b[0m\n",
      "\u001b[0;31mModuleNotFoundError\u001b[0m: No module named 'tensorflow'"
     ]
    }
   ],
   "source": [
    "import numpy as np\n",
    "import tensorflow as tf\n",
    "from tensorflow import keras\n"
   ]
  },
  {
   "cell_type": "markdown",
   "metadata": {
    "colab_type": "text",
    "id": "Nu1-eRywsPfo"
   },
   "source": [
    "**INSTALL NOTES:**\n",
    "* Keras will work out of the box in Coloab\n",
    "* if you want to install it on your local machine, things can become complicated. Here are some general tips (no individual support provided!):\n",
    " \n",
    "\n",
    "1.   You need GPU with >= 4GB mem, reacent driver and CUDA >= 9 up and running (this alone can be difficult)   \n",
    "2.   DO NOT install *pip install keras* !!! this will give you an old, outdated version. Keras is now a submodule of Tensorflow (TF) - so you need to install Tesorflow >=1.12 or Tensorlow 2\n",
    "3.   in most cases it works west to use anconda to install TF -> https://docs.anaconda.com/anaconda/user-guide/tasks/tensorflow/\n",
    "\n",
    "\n",
    "\n"
   ]
  },
  {
   "cell_type": "markdown",
   "metadata": {
    "colab_type": "text",
    "id": "rrxzXeylqKFA"
   },
   "source": [
    "## Introduction\n",
    "\n",
    "This guide will serve\n",
    "as your first introduction to core Keras API concepts:\n",
    "\n",
    "\n",
    "- How to prepare you data before training a model (by turning it into either NumPy\n",
    " arrays or `tf.data.Dataset` objects).\n",
    "- How to do data preprocessing, for instance feature normalization or vocabulary\n",
    " indexing.\n",
    "- How to build a model that turns your data into useful predictions,\n",
    "using the Keras Functional API.\n",
    "- How to train your model with the built-in Keras `fit()` method, while being\n",
    "mindful of checkpointing, metrics monitoring, and fault tolerance.\n",
    "- How to evaluate your model on a test data and how to use it for inference on new data.\n",
    "- How to refine your model through hyperparameter tuning.\n",
    "\n",
    "At the end of this guide, you will get pointers to end-to-end examples to solidify\n",
    " these concepts:\n",
    "\n",
    "- Image classification\n",
    "- Credit card fraud detection\n",
    "\n",
    "For the next steps after this intro, consult the Keras API refence: https://keras.io/api/  \n",
    "\n"
   ]
  },
  {
   "cell_type": "markdown",
   "metadata": {
    "colab_type": "text",
    "id": "NJcWJeZpqKFC"
   },
   "source": [
    "## Data loading & preprocessing\n",
    "\n",
    "Neural networks don't process raw data, like text files, encoded JPEG image files, or\n",
    " CSV files. They process **vectorized** & **standardized** representations.\n",
    "\n",
    "- Text files needs to be read into string tensors, then split into words. Finally, the\n",
    " words need to be indexed & turned into integer tensors.\n",
    "- Images need to be read and decoded into integer tensors, then converted to floating\n",
    " point and normalized to small values (usually between 0 and 1).\n",
    "- CSV data needs to be parsed, with numerical features converted to floating point\n",
    " tensors and categorical features indexed and converted to integer tensors.\n",
    "Then each feature typically needs to be normalized to zero-mean and unit-variance.\n",
    "- Etc.\n",
    "\n",
    "Let's start with data loading.\n",
    "\n",
    "## Data loading\n",
    "\n",
    "Keras models accept three types of inputs:\n",
    "\n",
    "- **NumPy arrays**, just like Scikit-Learn and many other Python-based libraries. This\n",
    " is a good option if your data fits in memory.\n",
    "- **[TensorFlow `Dataset` objects](https://www.tensorflow.org/guide/data)**. This is a\n",
    "high-performance option that is more suitable for datasets that do not fit in memory\n",
    " and that are streamed from disk or from a distributed filesystem.\n",
    "- **Python generators** that yield batches of data (such as custom subclasses of\n",
    "the `keras.utils.Sequence` class).\n",
    "\n",
    "Before you start training a model, you will need to make your data available as one of\n",
    "these formats. If you have a large dataset and you are training on GPU(s), consider\n",
    "using `Dataset` objects, since they will take care of performance-critical details,\n",
    " such as:\n",
    "\n",
    "- Asynchronously preprocessing your data on CPU while your GPU is busy, and bufferring\n",
    " it into a queue.\n",
    "- Prefetching data on GPU memory so it's immediately available when the GPU has\n",
    " finished processing the previous batch, so you can reach full GPU utilization.\n",
    "\n",
    "Keras features a range of utilities to help you turn raw data on disk into a `Dataset`:\n",
    "\n",
    "- `tf.keras.preprocessing.image_dataset_from_directory` turns image files sorted into\n",
    " class-specific folders into a labeled dataset of image tensors.\n",
    "- `tf.keras.preprocessing.text_dataset_from_directory` does the same for text files.\n",
    "\n",
    "In addition, the TensorFlow `tf.data` includes other similar utilities, such as\n",
    "`tf.data.experimental.make_csv_dataset` to load structured data from CSV files.\n",
    "\n",
    "**Example: obtaining a labeled dataset from image files on disk**\n",
    "\n",
    "Supposed you have image files sorted by class in different folders, like this:\n",
    "\n",
    "```\n",
    "main_directory/\n",
    "...class_a/\n",
    "......a_image_1.jpg\n",
    "......a_image_2.jpg\n",
    "...class_b/\n",
    "......b_image_1.jpg\n",
    "......b_image_2.jpg\n",
    "```\n",
    "\n",
    "Then you can do:\n",
    "\n",
    "```python\n",
    "# Create a dataset.\n",
    "dataset = keras.preprocessing.image_dataset_from_directory(\n",
    "  'path/to/main_directory', batch_size=64, image_size=(200, 200))\n",
    "\n",
    "# For demonstration, iterate over the batches yielded by the dataset.\n",
    "for data, labels in dataset:\n",
    "   print(data.shape)  # (64, 200, 200, 3)\n",
    "   print(data.dtype)  # float32\n",
    "   print(labels.shape)  # (64,)\n",
    "   print(labels.dtype)  # int32\n",
    "```\n",
    "\n",
    "The label of a sample is the rank of its folder in alphanumeric order. Naturally, this\n",
    " can also be configured explicitly by passing, e.g.\n",
    "`class_names=['class_a', 'class_b']`, in which cases label `0` will be `class_a` and\n",
    " `1` will be `class_b`.\n",
    "\n",
    "**Example: obtaining a labeled dataset from text files on disk**\n",
    "\n",
    "Likewise for text: if you have `.txt` documents sorted by class in different folders,\n",
    " you can do:\n",
    "\n",
    "```python\n",
    "dataset = keras.preprocessing.text_dataset_from_directory(\n",
    "  'path/to/main_directory', batch_size=64)\n",
    "\n",
    "# For demonstration, iterate over the batches yielded by the dataset.\n",
    "for data, labels in dataset:\n",
    "   print(data.shape)  # (64,)\n",
    "   print(data.dtype)  # string\n",
    "   print(labels.shape)  # (64,)\n",
    "   print(labels.dtype)  # int32\n",
    "```\n",
    "\n",
    "\n"
   ]
  },
  {
   "cell_type": "markdown",
   "metadata": {
    "colab_type": "text",
    "id": "x-8WH0qpqKFD"
   },
   "source": [
    "## Data preprocessing with Keras\n",
    "\n",
    "Once your data is in the form of string/int/float NumpPy arrays, or a `Dataset` object\n",
    " (or Python generator) that yields batches of string/int/float tensors,\n",
    "it is time to **preprocess** the data. This can mean:\n",
    "\n",
    "- Tokenization of string data, followed by token indexing.\n",
    "- Feature normalization.\n",
    "- Rescaling the data to small values (in general, input values to a neural network\n",
    "should be close to zero -- typically we expect either data with zero-mean and\n",
    " unit-variance, or data in the `[0, 1]` range.\n",
    "\n",
    "### The ideal machine learning model is end-to-end\n",
    "\n",
    "In general, you should seek to do data preprocessing **as part of your model** as much\n",
    "as possible, not via an external data preprocessing pipeline. That's because external\n",
    "data preprocessing makes your models less portable when it's time to use them in\n",
    "production. Consider a model that processes text: it uses a specific tokenization\n",
    "algorithm and a specific vocabulary index. When you want to ship your model to a\n",
    "mobile app or a JavaScript app, you will need to recreate the exact same preprocessing\n",
    "setup in the target language. This can get very tricky: any small discrepancy between\n",
    "the original pipeline and the one you recreate has the potential to completely\n",
    " invalidate your model, or at least severely degrade its performance.\n",
    "\n",
    "It would be much easier to be able to simply export an end-to-end model that already\n",
    "includes preprocessing. **The ideal model should expect as input something as close as\n",
    "possible to raw data: an image model should expect RGB pixel values in the `[0, 255]`\n",
    "range, and a text model should accept strings of `utf-8` characters.** That way, the\n",
    " consumer of the exported model doesn't have\n",
    "to know about the preprocessing pipeline.\n",
    "\n",
    "### Using Keras preprocessing layers\n",
    "\n",
    "In Keras, you do in-model data preprocessing via **preprocessing layers**. This\n",
    " includes:\n",
    "\n",
    "- Feature normalization via the `Normalization` layer\n",
    "- Image rescaling, cropping, or image data augmentation\n",
    "\n",
    "The key advatange of using Keras preprocessing layers is that **they can be included\n",
    " directly into your model**, either during training or after training,\n",
    "which makes your models portable.\n",
    "\n",
    "Some preprocessing layers have a state:\n",
    "\n",
    "- `TextVectorization` holds an index mapping words or tokens to integer indices\n",
    "- `Normalization` holds the mean and variance of your features\n",
    "\n",
    "The state of a preprocessing layers is obtained by calling `layer.adapt(data)` on a\n",
    " sample of the training data (or all of it).\n",
    "\n"
   ]
  },
  {
   "cell_type": "markdown",
   "metadata": {
    "colab_type": "text",
    "id": "9FRmVjXeqKFR"
   },
   "source": [
    "**Example: normalizing features**\n"
   ]
  },
  {
   "cell_type": "code",
   "execution_count": 2,
   "metadata": {
    "colab": {
     "base_uri": "https://localhost:8080/",
     "height": 53
    },
    "colab_type": "code",
    "id": "f1FcJBq2qKFS",
    "outputId": "677a7c69-0c82-4a89-9563-b1cde2d2adc6"
   },
   "outputs": [
    {
     "name": "stdout",
     "output_type": "stream",
     "text": [
      "var: 1.0000\n",
      "mean: 0.0000\n"
     ]
    }
   ],
   "source": [
    "from tensorflow.keras.layers.experimental.preprocessing import Normalization\n",
    "\n",
    "# Example image data, with values in the [0, 255] range\n",
    "training_data = np.random.randint(0, 256, size=(64, 200, 200, 3)).astype(\"float32\")\n",
    "\n",
    "normalizer = Normalization(axis=-1)\n",
    "normalizer.adapt(training_data)\n",
    "\n",
    "normalized_data = normalizer(training_data)\n",
    "print(\"var: %.4f\" % np.var(normalized_data))\n",
    "print(\"mean: %.4f\" % np.mean(normalized_data))\n"
   ]
  },
  {
   "cell_type": "markdown",
   "metadata": {
    "colab_type": "text",
    "id": "tEwzyslaqKFZ"
   },
   "source": [
    "**Example: rescaling & center-cropping images**\n",
    "\n",
    "Both the `Rescaling` layer and the `CenterCrop` layer are stateless, so it isn't\n",
    " necessary to call `adapt()` in this case.\n"
   ]
  },
  {
   "cell_type": "code",
   "execution_count": 3,
   "metadata": {
    "colab": {
     "base_uri": "https://localhost:8080/",
     "height": 71
    },
    "colab_type": "code",
    "id": "VIWwS2hcqKFb",
    "outputId": "8f03d087-7fe9-40fa-881e-67b79e5cdd7c"
   },
   "outputs": [
    {
     "name": "stdout",
     "output_type": "stream",
     "text": [
      "shape: (64, 150, 150, 3)\n",
      "min: 0.0\n",
      "max: 1.0\n"
     ]
    }
   ],
   "source": [
    "from tensorflow.keras.layers.experimental.preprocessing import CenterCrop\n",
    "from tensorflow.keras.layers.experimental.preprocessing import Rescaling\n",
    "\n",
    "# Example image data, with values in the [0, 255] range\n",
    "training_data = np.random.randint(0, 256, size=(64, 200, 200, 3)).astype(\"float32\")\n",
    "\n",
    "cropper = CenterCrop(height=150, width=150)\n",
    "scaler = Rescaling(scale=1.0 / 255)\n",
    "\n",
    "output_data = scaler(cropper(training_data))\n",
    "print(\"shape:\", output_data.shape)\n",
    "print(\"min:\", np.min(output_data))\n",
    "print(\"max:\", np.max(output_data))\n"
   ]
  },
  {
   "cell_type": "markdown",
   "metadata": {
    "colab_type": "text",
    "id": "IEyPcqUnqKFf"
   },
   "source": [
    "## Building models with the Keras Functional API\n",
    "\n",
    "A \"layer\" is a simple input-output transformation (such as the scaling &\n",
    "center-cropping transformations above). For instance, here's a linear projection layer\n",
    " that maps its inputs to a 16-dimensional feature space:\n",
    "\n",
    "```python\n",
    "dense = keras.layers.Dense(units=16)\n",
    "```\n",
    "\n",
    "A \"model\" is a directed acyclic graph of layers (***NOTE: Keras' simplyfied API can not handle cyclic graphs, I you need this, you need to use lower level Tensorflow***) . You can think of a model as a\n",
    "\"bigger layer\" that encompasses multiple sublayers and that can be trained via exposure\n",
    " to data.\n",
    "\n",
    "The most common and most powerful way to build Keras models is the Functional API. To\n",
    "build models with the Functional API, you start by specifying the shape (and\n",
    "optionally the dtype) of your inputs. If any dimension of your input can vary, you can\n",
    "specify it as `None`. For instance, an input for 200x200 RGB image would have shape\n",
    "`(200, 200, 3)`, but an input for RGB images of any size would have shape `(None,\n",
    " None, 3)`.\n"
   ]
  },
  {
   "cell_type": "code",
   "execution_count": 0,
   "metadata": {
    "colab": {},
    "colab_type": "code",
    "id": "yUIyXj28qKFg"
   },
   "outputs": [],
   "source": [
    "# Let's say we expect our inputs to be RGB images of arbitrary size\n",
    "inputs = keras.Input(shape=(None, None, 3))\n"
   ]
  },
  {
   "cell_type": "markdown",
   "metadata": {
    "colab_type": "text",
    "id": "eNn15Ea9qKFl"
   },
   "source": [
    "After defining your input(s), you chain layer transformations on top of your inputs,\n",
    " until your final output:\n"
   ]
  },
  {
   "cell_type": "code",
   "execution_count": 0,
   "metadata": {
    "colab": {},
    "colab_type": "code",
    "id": "0VVMSoKuqKFm"
   },
   "outputs": [],
   "source": [
    "from tensorflow.keras import layers\n",
    "\n",
    "# Center-crop images to 150x150\n",
    "l1 = CenterCrop(height=150, width=150)(inputs)\n",
    "# Rescale images to [0, 1]\n",
    "l2 = Rescaling(scale=1.0 / 255)(l1)\n",
    "\n",
    "# Apply some convolution and pooling layers\n",
    "l3 = layers.Conv2D(filters=32, kernel_size=(3, 3), activation=\"relu\")(l2)\n",
    "l4 = layers.MaxPooling2D(pool_size=(3, 3))(l3)\n",
    "l5 = layers.Conv2D(filters=32, kernel_size=(3, 3), activation=\"relu\")(l4)\n",
    "l6 = layers.MaxPooling2D(pool_size=(3, 3))(l5)\n",
    "l7 = layers.Conv2D(filters=32, kernel_size=(3, 3), activation=\"relu\")(l6)\n",
    "\n",
    "# Apply global average pooling to get flat feature vectors\n",
    "l8 = layers.GlobalAveragePooling2D()(l7)\n",
    "\n",
    "# Add a dense classifier on top\n",
    "num_classes = 10\n",
    "outputs = layers.Dense(num_classes, activation=\"softmax\")(l8)\n"
   ]
  },
  {
   "cell_type": "markdown",
   "metadata": {
    "colab_type": "text",
    "id": "HYzRV3eLqKFr"
   },
   "source": [
    "***NOTE: in Keras \"fully connected\", aka matrix multiplication layers are called \"dense layers\"***\n",
    "\n",
    "Once you have defined the directed acyclic graph of layers that turns your input(s) into\n",
    " your outputs, instantiate a `Model` object:\n"
   ]
  },
  {
   "cell_type": "code",
   "execution_count": 0,
   "metadata": {
    "colab": {},
    "colab_type": "code",
    "id": "np4XUfeRqKFs"
   },
   "outputs": [],
   "source": [
    "model = keras.Model(inputs=inputs, outputs=outputs)\n"
   ]
  },
  {
   "cell_type": "markdown",
   "metadata": {
    "colab_type": "text",
    "id": "P5BtaB91qKFw"
   },
   "source": [
    "This model behaves basically like a bigger layer. You can call it on batches of data, like\n",
    " this:\n"
   ]
  },
  {
   "cell_type": "code",
   "execution_count": 8,
   "metadata": {
    "colab": {
     "base_uri": "https://localhost:8080/",
     "height": 35
    },
    "colab_type": "code",
    "id": "Zg4v8N_5qKFw",
    "outputId": "b38c12ed-2e6b-48d2-e85c-9531fd0d50ed"
   },
   "outputs": [
    {
     "name": "stdout",
     "output_type": "stream",
     "text": [
      "(64, 10)\n"
     ]
    }
   ],
   "source": [
    "data = np.random.randint(0, 256, size=(64, 200, 200, 3)).astype(\"float32\")\n",
    "processed_data = model(data)\n",
    "print(processed_data.shape)\n"
   ]
  },
  {
   "cell_type": "markdown",
   "metadata": {
    "colab_type": "text",
    "id": "fHgEOxksqKF1"
   },
   "source": [
    "You can print a summary of how your data gets transformed at each stage of the model.\n",
    " This is useful for debugging.\n",
    "\n",
    "Note that the output shape displayed for each layers includes the **batch size**. Here\n",
    " the batch size is None, which indicates our model can process batchs of any size.\n"
   ]
  },
  {
   "cell_type": "code",
   "execution_count": 9,
   "metadata": {
    "colab": {
     "base_uri": "https://localhost:8080/",
     "height": 521
    },
    "colab_type": "code",
    "id": "mYYQJPrgqKF2",
    "outputId": "019f57f1-bf58-41ed-ad74-b885b3d82da2"
   },
   "outputs": [
    {
     "name": "stdout",
     "output_type": "stream",
     "text": [
      "Model: \"model\"\n",
      "_________________________________________________________________\n",
      "Layer (type)                 Output Shape              Param #   \n",
      "=================================================================\n",
      "input_1 (InputLayer)         [(None, None, None, 3)]   0         \n",
      "_________________________________________________________________\n",
      "center_crop_2 (CenterCrop)   (None, 150, 150, 3)       0         \n",
      "_________________________________________________________________\n",
      "rescaling_2 (Rescaling)      (None, 150, 150, 3)       0         \n",
      "_________________________________________________________________\n",
      "conv2d_3 (Conv2D)            (None, 148, 148, 32)      896       \n",
      "_________________________________________________________________\n",
      "max_pooling2d_2 (MaxPooling2 (None, 49, 49, 32)        0         \n",
      "_________________________________________________________________\n",
      "conv2d_4 (Conv2D)            (None, 47, 47, 32)        9248      \n",
      "_________________________________________________________________\n",
      "max_pooling2d_3 (MaxPooling2 (None, 15, 15, 32)        0         \n",
      "_________________________________________________________________\n",
      "conv2d_5 (Conv2D)            (None, 13, 13, 32)        9248      \n",
      "_________________________________________________________________\n",
      "global_average_pooling2d_1 ( (None, 32)                0         \n",
      "_________________________________________________________________\n",
      "dense_1 (Dense)              (None, 10)                330       \n",
      "=================================================================\n",
      "Total params: 19,722\n",
      "Trainable params: 19,722\n",
      "Non-trainable params: 0\n",
      "_________________________________________________________________\n"
     ]
    }
   ],
   "source": [
    "model.summary()\n"
   ]
  },
  {
   "cell_type": "markdown",
   "metadata": {
    "colab_type": "text",
    "id": "HsgPW_dnqKF9"
   },
   "source": [
    "The Functional API also makes it easy to build models that have multiple inputs (for\n",
    "instance, an image *and* its metadata) or multiple outputs (for instance, predicting\n",
    "the class of the image *and* the likelihood that a user will click on it). For a\n",
    " deeper dive into what you can do, see our\n",
    "[guide to the Functional API](/guides/functional_api/).\n"
   ]
  },
  {
   "cell_type": "markdown",
   "metadata": {
    "colab_type": "text",
    "id": "tt3f-PM1qKF9"
   },
   "source": [
    "## Training models with `fit()`\n",
    "\n",
    "At this point, you know:\n",
    "\n",
    "- How to prepare your data (e.g. as a NumPy array or a `tf.data.Dataset` object)\n",
    "- How to build a model that will process your data\n",
    "\n",
    "The next step is to train your model on your data. The `Model` class features a\n",
    "built-in training loop, the `fit()` method. It accepts `Dataset` objects, Python\n",
    " generators that yield batches of data, or NumPy arrays.\n",
    "\n",
    "Before you can call `fit()`, you need to specify an optimizer and a loss function (we\n",
    " assume you are already familiar with these concepts). This is the `compile()` step:\n",
    "\n",
    "```python\n",
    "model.compile(optimizer=keras.optimizers.RMSprop(learning_rate=1e-3),\n",
    "              loss=keras.losses.CategoricalCrossentropy())\n",
    "```\n",
    "\n",
    "Loss and optimizer can be specified via their string identifiers (in this case\n",
    "their default constructor argument values are used):\n",
    "\n",
    "\n",
    "```python\n",
    "model.compile(optimizer='rmsprop', loss='categorical_crossentropy')\n",
    "```\n",
    "\n",
    "Once your model is compiled, you can start \"fitting\" the model to the data.\n",
    "Here's what fitting a model looks like with NumPy data:\n",
    "\n",
    "```python\n",
    "model.fit(numpy_array_of_samples, numpy_array_of_labels,\n",
    "          batch_size=32, epochs=10)\n",
    "```\n",
    "\n",
    "Besides the data, you have to specify two key parameters: the `batch_size` and\n",
    "the number of epochs (iterations on the data). Here our data will get sliced on batches\n",
    " of 32 samples, and the model will iterate 10 times over the data during training.\n",
    "\n",
    "Here's what fitting a model looks like with a dataset:\n",
    "\n",
    "```python\n",
    "model.fit(dataset_of_samples_and_labels, epochs=10)\n",
    "```\n",
    "\n",
    "Since the data yielded by a dataset is expect to be already batched, you don't need to\n",
    " specify the batch size here.\n",
    "\n",
    "\n"
   ]
  },
  {
   "cell_type": "markdown",
   "metadata": {},
   "source": [
    "## Example: MLP for MNIST"
   ]
  },
  {
   "cell_type": "code",
   "execution_count": 10,
   "metadata": {
    "colab": {
     "base_uri": "https://localhost:8080/",
     "height": 485
    },
    "colab_type": "code",
    "id": "g1JJir_pqKF-",
    "outputId": "0da90f43-17bf-4c69-b247-97c33f4c5895"
   },
   "outputs": [
    {
     "name": "stdout",
     "output_type": "stream",
     "text": [
      "Downloading data from https://storage.googleapis.com/tensorflow/tf-keras-datasets/mnist.npz\n",
      "11493376/11490434 [==============================] - 0s 0us/step\n",
      "Model: \"model_1\"\n",
      "_________________________________________________________________\n",
      "Layer (type)                 Output Shape              Param #   \n",
      "=================================================================\n",
      "input_2 (InputLayer)         [(None, 28, 28)]          0         \n",
      "_________________________________________________________________\n",
      "rescaling_3 (Rescaling)      (None, 28, 28)            0         \n",
      "_________________________________________________________________\n",
      "flatten (Flatten)            (None, 784)               0         \n",
      "_________________________________________________________________\n",
      "dense_2 (Dense)              (None, 128)               100480    \n",
      "_________________________________________________________________\n",
      "dense_3 (Dense)              (None, 128)               16512     \n",
      "_________________________________________________________________\n",
      "dense_4 (Dense)              (None, 10)                1290      \n",
      "=================================================================\n",
      "Total params: 118,282\n",
      "Trainable params: 118,282\n",
      "Non-trainable params: 0\n",
      "_________________________________________________________________\n",
      "Fit on NumPy data\n",
      "938/938 [==============================] - 3s 3ms/step - loss: 0.2849\n",
      "Fit on Dataset\n",
      "938/938 [==============================] - 3s 3ms/step - loss: 0.1386\n"
     ]
    }
   ],
   "source": [
    "# Get the data as Numpy arrays\n",
    "(x_train, y_train), (x_test, y_test) = keras.datasets.mnist.load_data()\n",
    "\n",
    "# Build a simple model\n",
    "inputs = keras.Input(shape=(28, 28))\n",
    "l1 = layers.experimental.preprocessing.Rescaling(1.0 / 255)(inputs)\n",
    "l2 = layers.Flatten()(l1)\n",
    "l3 = layers.Dense(128, activation=\"tanh\")(l2)\n",
    "l4 = layers.Dense(128, activation=\"tanh\")(l3)\n",
    "outputs = layers.Dense(10, activation=\"softmax\")(l4)\n",
    "model = keras.Model(inputs, outputs)\n",
    "model.summary()\n",
    "\n",
    "# Compile the model\n",
    "model.compile(optimizer=\"adam\", loss=\"sparse_categorical_crossentropy\")\n",
    "\n",
    "# Train the model for 1 epoch from Numpy data\n",
    "batch_size = 64\n",
    "print(\"Fit on NumPy data\")\n",
    "history = model.fit(x_train, y_train, batch_size=batch_size, epochs=1)\n",
    "\n",
    "# Train the model for 1 epoch using a dataset\n",
    "dataset = tf.data.Dataset.from_tensor_slices((x_train, y_train)).batch(batch_size)\n",
    "print(\"Fit on Dataset\")\n",
    "history = model.fit(dataset, epochs=1)\n"
   ]
  },
  {
   "cell_type": "markdown",
   "metadata": {
    "colab_type": "text",
    "id": "vPctbeI3qKGB"
   },
   "source": [
    "The `fit()` call returns a \"history\" object which records what happened over the course\n",
    "of training. The `history.history` dict contains per-epoch timeseries of metrics\n",
    "values (here we have only one metric, the loss, and one epoch, so we only get a single\n",
    " scalar):\n"
   ]
  },
  {
   "cell_type": "code",
   "execution_count": 11,
   "metadata": {
    "colab": {
     "base_uri": "https://localhost:8080/",
     "height": 35
    },
    "colab_type": "code",
    "id": "VjfsrhH4qKGD",
    "outputId": "11bcf7d8-a221-40f0-8845-98512b4b19ce"
   },
   "outputs": [
    {
     "name": "stdout",
     "output_type": "stream",
     "text": [
      "{'loss': [0.1385771930217743]}\n"
     ]
    }
   ],
   "source": [
    "print(history.history)\n"
   ]
  },
  {
   "cell_type": "markdown",
   "metadata": {
    "colab_type": "text",
    "id": "L5wtFjqZqKGG"
   },
   "source": [
    "For a detailed overview of how to use `fit()`, see the\n",
    "[guide to training & evaluation with the built-in Keras methods](\n",
    "  /guides/training_with_built_in_methods/).\n"
   ]
  },
  {
   "cell_type": "markdown",
   "metadata": {
    "colab_type": "text",
    "id": "lMNdFQXKqKGH"
   },
   "source": [
    "### Keeping track of performance metrics\n",
    "\n",
    "As you're training a model, you want to keep of track of metrics such as classification\n",
    "accuracy, precision, recall, AUC, etc. Besides, you want to monitor these metrics not\n",
    " only on the training data, but also on a validation set.\n",
    "\n",
    "**Monitoring metrics**\n",
    "\n",
    "You can pass a list of metric objects to `compile()`, like this:\n",
    "\n"
   ]
  },
  {
   "cell_type": "code",
   "execution_count": 12,
   "metadata": {
    "colab": {
     "base_uri": "https://localhost:8080/",
     "height": 35
    },
    "colab_type": "code",
    "id": "jn4WfgrCqKGJ",
    "outputId": "ca0b3033-0d54-42f8-b3ec-75951be1f218"
   },
   "outputs": [
    {
     "name": "stdout",
     "output_type": "stream",
     "text": [
      "938/938 [==============================] - 3s 3ms/step - loss: 0.0970 - acc: 0.9706\n"
     ]
    }
   ],
   "source": [
    "model.compile(\n",
    "    optimizer=\"adam\",\n",
    "    loss=\"sparse_categorical_crossentropy\",\n",
    "    metrics=[keras.metrics.SparseCategoricalAccuracy(name=\"acc\")],\n",
    ")\n",
    "history = model.fit(dataset, epochs=1)\n"
   ]
  },
  {
   "cell_type": "markdown",
   "metadata": {
    "colab_type": "text",
    "id": "HDcdcydAqKGL"
   },
   "source": [
    "**Passing validation data to `fit()`**\n",
    "\n",
    "You can pass validation data to `fit()` to monitor your validation loss & validation\n",
    " metrics. Validation metrics get reported at the end of each epoch.\n"
   ]
  },
  {
   "cell_type": "code",
   "execution_count": 13,
   "metadata": {
    "colab": {
     "base_uri": "https://localhost:8080/",
     "height": 35
    },
    "colab_type": "code",
    "id": "ruwHEHkMqKGM",
    "outputId": "c02209a3-c437-4378-8983-4d3f688502dd"
   },
   "outputs": [
    {
     "name": "stdout",
     "output_type": "stream",
     "text": [
      "938/938 [==============================] - 3s 4ms/step - loss: 0.0676 - acc: 0.9796 - val_loss: 0.0912 - val_acc: 0.9711\n"
     ]
    }
   ],
   "source": [
    "val_dataset = tf.data.Dataset.from_tensor_slices((x_test, y_test)).batch(batch_size)\n",
    "history = model.fit(dataset, epochs=1, validation_data=val_dataset)\n"
   ]
  },
  {
   "cell_type": "markdown",
   "metadata": {
    "colab_type": "text",
    "id": "NMAKdE_1qKGV"
   },
   "source": [
    "### After `fit()`: evaluating test performance & generating predictions on new data\n",
    "\n",
    "Once you have a trained model, you can evaluate its loss and metrics on new data via\n",
    " `evaluate()`:\n"
   ]
  },
  {
   "cell_type": "code",
   "execution_count": 14,
   "metadata": {
    "colab": {
     "base_uri": "https://localhost:8080/",
     "height": 71
    },
    "colab_type": "code",
    "id": "IP37hv4gqKGV",
    "outputId": "75de65d0-2e76-4b47-d0d3-5e5b0ff92b71"
   },
   "outputs": [
    {
     "name": "stdout",
     "output_type": "stream",
     "text": [
      "157/157 [==============================] - 0s 2ms/step - loss: 0.0912 - acc: 0.9711\n",
      "loss: 0.09\n",
      "acc: 0.97\n"
     ]
    }
   ],
   "source": [
    "loss, acc = model.evaluate(val_dataset)  # returns loss and metrics\n",
    "print(\"loss: %.2f\" % loss)\n",
    "print(\"acc: %.2f\" % acc)\n"
   ]
  },
  {
   "cell_type": "markdown",
   "metadata": {
    "colab_type": "text",
    "id": "2PMpoMdRqKGY"
   },
   "source": [
    "You can also generate NumPy arrays of predictions (the activations of the output\n",
    " layer(s) in the model) via `predict()`:\n"
   ]
  },
  {
   "cell_type": "code",
   "execution_count": 15,
   "metadata": {
    "colab": {
     "base_uri": "https://localhost:8080/",
     "height": 35
    },
    "colab_type": "code",
    "id": "Ti-8k36BqKGZ",
    "outputId": "f1d9e8d1-f03d-48f9-875b-2adb7259d261"
   },
   "outputs": [
    {
     "name": "stdout",
     "output_type": "stream",
     "text": [
      "(10000, 10)\n"
     ]
    }
   ],
   "source": [
    "predictions = model.predict(val_dataset)\n",
    "print(predictions.shape)\n"
   ]
  },
  {
   "cell_type": "markdown",
   "metadata": {
    "colab_type": "text",
    "id": "6c4soRAQqKGd"
   },
   "source": [
    "## Debugging your model with eager execution\n",
    "\n",
    "If you write custom training steps or custom layers, you will need to debug them. The\n",
    "debugging experience is an integral part of a framework: with Keras, the debugging\n",
    " workflow is designed with the user in mind.\n",
    "\n",
    "By default, your Keras models are compiled to highly-optimized computation graphs that\n",
    "deliver fast execution times. That means that the Python code you write (e.g. in a\n",
    "custom `train_step`) is not the code you are actually executing. This introduces a\n",
    " layer of indirection that can make debugging hard.\n",
    "\n",
    "Debugging is best done step by step. You want to be able to sprinkle your code with\n",
    "`print()` statement to see what your data looks like after every operation, you want\n",
    "to be able to use `pdb`. You can achieve this by **running your model eagerly**. With\n",
    " eager execution, the Python code you write is the code that gets executed.\n",
    "\n",
    "Simply pass `run_eagerly=True` to `compile()`:\n",
    "\n",
    "```python\n",
    "model.compile(optimizer='adam', loss='mse', run_eagerly=True)\n",
    "```\n",
    "\n",
    "Of course, the downside is that it makes your model significantly slower. Make sure to\n",
    "switch it back off to get the benefits of compiled computation graphs once you are\n",
    " done debugging!\n",
    "\n",
    "In general, you will use `run_eagerly=True` every time you need to debug what's\n",
    " happening inside your `fit()` call.\n"
   ]
  },
  {
   "cell_type": "markdown",
   "metadata": {
    "colab_type": "text",
    "id": "ugsrbTV5qKGn"
   },
   "source": [
    "## Finding the best model configuration with hyperparameter tuning\n",
    "\n",
    "Once you have a working model, you're going to want to optimize its configuration --\n",
    "architecture choices, layer sizes, etc. Human intuition can only go so far, so you'll\n",
    " want to leverage a systematic approach: hyperparameter search.\n",
    "\n",
    "You can use\n",
    "[Keras Tuner](https://keras-team.github.io/keras-tuner/documentation/tuners/) to find\n",
    " the best hyperparameter for your Keras models. It's as easy as calling `fit()`.\n",
    "\n",
    "Here how it works.\n",
    "\n",
    "First, place your model definition in a function, that takes a single `hp` argument.\n",
    "Inside this function, replace any value you want to tune with a call to hyperparameter\n",
    " sampling methods, e.g. `hp.Int()` or `hp.Choice()`:\n",
    "\n",
    "```python\n",
    "def build_model(hp):\n",
    "    inputs = keras.Input(shape=(784,))\n",
    "    x = layers.Dense(\n",
    "        units=hp.Int('units', min_value=32, max_value=512, step=32),\n",
    "        activation='relu'))(inputs)\n",
    "    outputs = layers.Dense(10, activation='softmax')(x)\n",
    "    model = keras.Model(inputs, outputs)\n",
    "    model.compile(\n",
    "        optimizer=keras.optimizers.Adam(\n",
    "            hp.Choice('learning_rate',\n",
    "                      values=[1e-2, 1e-3, 1e-4])),\n",
    "        loss='sparse_categorical_crossentropy',\n",
    "        metrics=['accuracy'])\n",
    "    return model\n",
    "```\n",
    "\n",
    "The function should return a compiled model.\n",
    "\n",
    "Next, instantiate a tuner object specifying your optimiation objective and other search\n",
    " parameters:\n",
    "\n",
    "\n",
    "```python\n",
    "import kerastuner\n",
    "\n",
    "tuner = kerastuner.tuners.Hyperband(\n",
    "  build_model,\n",
    "  objective='val_loss',\n",
    "  max_epochs=100,\n",
    "  max_trials=200,\n",
    "  executions_per_trial=2,\n",
    "  directory='my_dir')\n",
    "```\n",
    "\n",
    "Finally, start the search with the `search()` method, which takes the same arguments as\n",
    " `Model.fit()`:\n",
    "\n",
    "```python\n",
    "tuner.search(dataset, validation_data=val_dataset)\n",
    "```\n",
    "\n",
    "When search is over, you can retrieve the best model(s):\n",
    "\n",
    "```python\n",
    "models = tuner.get_best_models(num_models=2)\n",
    "```\n",
    "\n",
    "Or print a summary of the results:\n",
    "\n",
    "```python\n",
    "tuner.results_summary()\n",
    "```\n"
   ]
  },
  {
   "cell_type": "markdown",
   "metadata": {
    "colab_type": "text",
    "id": "r550c3VAqKGo"
   },
   "source": [
    "## End-to-end examples\n",
    "\n",
    "To familiarize yourself with the concepts in this introduction, see the following\n",
    " end-to-end examples:\n",
    "- [Image classification](/examples/vision/image_classification_from_scratch/)\n",
    "- [Credit card fraud detection](/examples/structured_data/imbalanced_classification/)\n"
   ]
  },
  {
   "cell_type": "markdown",
   "metadata": {
    "colab_type": "text",
    "id": "iVxJHtp1qKGp"
   },
   "source": [
    "## What to learn next\n",
    "\n",
    "- Learn more about the\n",
    "[Functional API](/guides/functional_api/).\n",
    "- Learn more about the\n",
    "[features of `fit()` and `evaluate()`](/guides/training_with_built_in_methods/).\n"
   ]
  },
  {
   "cell_type": "code",
   "execution_count": 0,
   "metadata": {
    "colab": {},
    "colab_type": "code",
    "id": "CujhTLjsyrAe"
   },
   "outputs": [],
   "source": []
  }
 ],
 "metadata": {
  "colab": {
   "collapsed_sections": [],
   "name": "intro_to_keras_for_engineers",
   "provenance": [],
   "toc_visible": true
  },
  "kernelspec": {
   "display_name": "Python 3",
   "language": "python",
   "name": "python3"
  },
  "language_info": {
   "codemirror_mode": {
    "name": "ipython",
    "version": 3
   },
   "file_extension": ".py",
   "mimetype": "text/x-python",
   "name": "python",
   "nbconvert_exporter": "python",
   "pygments_lexer": "ipython3",
   "version": "3.7.6"
  }
 },
 "nbformat": 4,
 "nbformat_minor": 1
}
