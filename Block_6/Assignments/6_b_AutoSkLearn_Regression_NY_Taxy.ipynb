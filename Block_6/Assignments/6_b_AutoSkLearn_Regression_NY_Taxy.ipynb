{
 "cells": [
  {
   "cell_type": "markdown",
   "metadata": {},
   "source": [
    "# Block 6 Exercise 2: finding the best parameters for predicting the fare of taxi rides\n",
    "We return to our Random Forest Regression and want to automatically optimize all free parameters ..."
   ]
  },
  {
   "cell_type": "code",
   "execution_count": 1,
   "metadata": {},
   "outputs": [],
   "source": [
    "import pandas as pd\n",
    "import numpy as np\n",
    "import folium\n"
   ]
  },
  {
   "cell_type": "code",
   "execution_count": 2,
   "metadata": {},
   "outputs": [],
   "source": [
    "# we load the data we have saved after wrangling and pre-processing in block I\n",
    "X=pd.read_csv('../../DATA/train_cleaned.csv')\n",
    "drop_columns=['Unnamed: 0','Unnamed: 0.1','Unnamed: 0.1.1','key','pickup_datetime','pickup_date','pickup_latitude_round3','pickup_longitude_round3','dropoff_latitude_round3','dropoff_longitude_round3']\n",
    "X=X.drop(drop_columns,axis=1)\n",
    "X=pd.get_dummies(X)# one hot coding\n",
    "#generate labels\n",
    "y=X['fare_amount']\n",
    "X=X.drop(['fare_amount'],axis=1)"
   ]
  },
  {
   "cell_type": "markdown",
   "metadata": {},
   "source": [
    "### Scikit Optimize\n",
    "Scikit Optimize (https://scikit-optimize.github.io/stable/index.html) is a AutoML toolbox wrapped around Scikit-Learn. It allows us to use state-of-the-art automatic hyper-parameter optimization on top of our learning algorithms.   \n",
    "\n"
   ]
  },
  {
   "cell_type": "code",
   "execution_count": 3,
   "metadata": {},
   "outputs": [
    {
     "name": "stdout",
     "output_type": "stream",
     "text": [
      "Requirement already satisfied: scikit-optimize in c:\\users\\lutz\\documents\\github\\datascience21\\block_6\\venv\\lib\\site-packages (0.8.1)\n",
      "Requirement already satisfied: scikit-learn>=0.20.0 in c:\\users\\lutz\\documents\\github\\datascience21\\block_6\\venv\\lib\\site-packages (from scikit-optimize) (0.23.2)\n",
      "Requirement already satisfied: pyaml>=16.9 in c:\\users\\lutz\\documents\\github\\datascience21\\block_6\\venv\\lib\\site-packages (from scikit-optimize) (20.4.0)\n",
      "Requirement already satisfied: joblib>=0.11 in c:\\users\\lutz\\documents\\github\\datascience21\\block_6\\venv\\lib\\site-packages (from scikit-optimize) (1.0.1)\n",
      "Requirement already satisfied: scipy>=0.19.1 in c:\\users\\lutz\\documents\\github\\datascience21\\block_6\\venv\\lib\\site-packages (from scikit-optimize) (1.6.3)\n",
      "Requirement already satisfied: numpy>=1.13.3 in c:\\users\\lutz\\documents\\github\\datascience21\\block_6\\venv\\lib\\site-packages (from scikit-optimize) (1.20.2)\n",
      "Requirement already satisfied: PyYAML in c:\\users\\lutz\\documents\\github\\datascience21\\block_6\\venv\\lib\\site-packages (from pyaml>=16.9->scikit-optimize) (5.4.1)\n",
      "Requirement already satisfied: threadpoolctl>=2.0.0 in c:\\users\\lutz\\documents\\github\\datascience21\\block_6\\venv\\lib\\site-packages (from scikit-learn>=0.20.0->scikit-optimize) (2.1.0)\n"
     ]
    }
   ],
   "source": [
    "# install \n",
    "!pip install scikit-optimize"
   ]
  },
  {
   "cell_type": "markdown",
   "metadata": {},
   "source": [
    "### E 2.1 Bayesian Optimization of a Random Forest Regression Model\n",
    "use Bayesian Optimization with Cross-Validation (https://scikit-optimize.github.io/stable/modules/generated/skopt.BayesSearchCV.html#skopt.BayesSearchCV) to find the best regression model. Compare\n",
    "* linear regression (https://scikit-learn.org/stable/modules/generated/sklearn.linear_model.LinearRegression.html#sklearn.linear_model.LinearRegression) \n",
    "* Random Forest regression (https://scikit-learn.org/stable/modules/generated/sklearn.ensemble.RandomForestRegressor.html#sklearn.ensemble.RandomForestRegressor)\n",
    "* and SVM regression (https://scikit-learn.org/stable/modules/generated/sklearn.svm.SVR.html#sklearn.svm.SVR)\n",
    "\n",
    "NOTES: this can become quite compute intensive! Hence,\n",
    "* use a smaller subset of the training data to run the experiments \n",
    "* think about the range of your parameters (e.g. larger number of trees in RF or high C-values in SMV will make models expensive)\n",
    "* optimize only the following parameters per model type:\n",
    "    * linear: no parameters to optimize\n",
    "    * RF: #trees and depth\n",
    "    * SVM: C and gamma (use RBF kernel)\n",
    "* parallelize -> n_jobs\n",
    "* use CoLab to rum the job for up to 12h \n"
   ]
  },
  {
   "cell_type": "code",
   "execution_count": 4,
   "metadata": {},
   "outputs": [],
   "source": [
    "X_s = X.head(20000)\n",
    "y_s = y.head(20000)"
   ]
  },
  {
   "cell_type": "markdown",
   "source": [
    "#### Linear"
   ],
   "metadata": {
    "collapsed": false
   }
  },
  {
   "cell_type": "code",
   "execution_count": 5,
   "outputs": [],
   "source": [
    "from sklearn.model_selection import train_test_split\n",
    "X_train, X_test, y_train, y_test = train_test_split(X_s, y_s, random_state=0)"
   ],
   "metadata": {
    "collapsed": false,
    "pycharm": {
     "name": "#%%\n"
    }
   }
  },
  {
   "cell_type": "code",
   "execution_count": 15,
   "outputs": [
    {
     "name": "stdout",
     "output_type": "stream",
     "text": [
      "Stored 'lr' (LinearRegression)\n"
     ]
    }
   ],
   "source": [
    "from sklearn.linear_model import LinearRegression\n",
    "lr = LinearRegression().fit(X_train, y_train)\n",
    "%store lr"
   ],
   "metadata": {
    "collapsed": false,
    "pycharm": {
     "name": "#%%\n"
    }
   }
  },
  {
   "cell_type": "code",
   "execution_count": 16,
   "outputs": [
    {
     "name": "stdout",
     "output_type": "stream",
     "text": [
      "test score: 0.5005780148025794\n"
     ]
    }
   ],
   "source": [
    "%store -r lr\n",
    "print(\"test score: %s\" % lr.score(X_test, y_test))"
   ],
   "metadata": {
    "collapsed": false,
    "pycharm": {
     "name": "#%%\n"
    }
   }
  },
  {
   "cell_type": "markdown",
   "source": [
    "#### RF"
   ],
   "metadata": {
    "collapsed": false
   }
  },
  {
   "cell_type": "code",
   "execution_count": 17,
   "outputs": [
    {
     "name": "stdout",
     "output_type": "stream",
     "text": [
      "Stored 'opt_rf' (BayesSearchCV)\n"
     ]
    }
   ],
   "source": [
    "from skopt import BayesSearchCV\n",
    "from sklearn.ensemble import RandomForestRegressor\n",
    "opt_rf = BayesSearchCV(\n",
    "    RandomForestRegressor(random_state=0),\n",
    "    search_spaces={ \"n_estimators\": (100,1000), \"max_depth\": (2,100)},\n",
    "    random_state=0,\n",
    "    n_iter=32,\n",
    "    n_jobs=6)\n",
    "_ = opt_rf.fit(X_train, y_train)\n",
    "%store opt_rf"
   ],
   "metadata": {
    "collapsed": false,
    "pycharm": {
     "name": "#%%\n"
    }
   }
  },
  {
   "cell_type": "code",
   "execution_count": 18,
   "outputs": [
    {
     "name": "stdout",
     "output_type": "stream",
     "text": [
      "val. score: 0.808777436006692\n",
      "test score: 0.806701544600705\n",
      "best params: OrderedDict([('max_depth', 84), ('n_estimators', 992)])\n"
     ]
    }
   ],
   "source": [
    "%store -r opt_rf\n",
    "print(\"val. score: %s\" % opt_rf.best_score_)\n",
    "print(\"test score: %s\" % opt_rf.score(X_test, y_test))\n",
    "print(\"best params: %s\" % str(opt_rf.best_params_))"
   ],
   "metadata": {
    "collapsed": false,
    "pycharm": {
     "name": "#%%\n"
    }
   }
  },
  {
   "cell_type": "code",
   "execution_count": 4,
   "outputs": [
    {
     "data": {
      "text/plain": "    rank_test_score  param_n_estimators  param_max_depth  mean_test_score\n31                1                 992               71         0.808777\n5                 1                 992               84         0.808777\n30                3                 986               67         0.808761\n28                4                 999               89         0.808757\n12                4                 999               65         0.808757\n18                6                1000               74         0.808751\n10                6                1000               98         0.808751\n11                8                 894               92         0.808737\n8                 9                 907               11         0.808708\n20               10                 535               92         0.808665\n26               11                 879               77         0.808597\n19               12                 669               81         0.808562\n9                13                 496               38         0.808561\n7                14                 574               52         0.808534\n17               15                 370               98         0.808436\n22               16                 406               16         0.808382\n23               17                 743               24         0.808378\n0                18                 708               54         0.808355\n6                19                 781               97         0.808343\n1                20                 981               27         0.808327\n13               21                 442               12         0.808222\n14               22                 628               11         0.808210\n3                23                 805               16         0.808181\n4                24                 319               25         0.808072\n29               25                 180               86         0.808022\n24               26                 127               22         0.807723\n2                27                 152               54         0.807646\n27               28                 125               19         0.806838\n16               29                 100               95         0.806588\n21               30                 849                6         0.803877\n15               31                 239                4         0.779828\n25               32                 343                3         0.754247",
      "text/html": "<div>\n<style scoped>\n    .dataframe tbody tr th:only-of-type {\n        vertical-align: middle;\n    }\n\n    .dataframe tbody tr th {\n        vertical-align: top;\n    }\n\n    .dataframe thead th {\n        text-align: right;\n    }\n</style>\n<table border=\"1\" class=\"dataframe\">\n  <thead>\n    <tr style=\"text-align: right;\">\n      <th></th>\n      <th>rank_test_score</th>\n      <th>param_n_estimators</th>\n      <th>param_max_depth</th>\n      <th>mean_test_score</th>\n    </tr>\n  </thead>\n  <tbody>\n    <tr>\n      <th>31</th>\n      <td>1</td>\n      <td>992</td>\n      <td>71</td>\n      <td>0.808777</td>\n    </tr>\n    <tr>\n      <th>5</th>\n      <td>1</td>\n      <td>992</td>\n      <td>84</td>\n      <td>0.808777</td>\n    </tr>\n    <tr>\n      <th>30</th>\n      <td>3</td>\n      <td>986</td>\n      <td>67</td>\n      <td>0.808761</td>\n    </tr>\n    <tr>\n      <th>28</th>\n      <td>4</td>\n      <td>999</td>\n      <td>89</td>\n      <td>0.808757</td>\n    </tr>\n    <tr>\n      <th>12</th>\n      <td>4</td>\n      <td>999</td>\n      <td>65</td>\n      <td>0.808757</td>\n    </tr>\n    <tr>\n      <th>18</th>\n      <td>6</td>\n      <td>1000</td>\n      <td>74</td>\n      <td>0.808751</td>\n    </tr>\n    <tr>\n      <th>10</th>\n      <td>6</td>\n      <td>1000</td>\n      <td>98</td>\n      <td>0.808751</td>\n    </tr>\n    <tr>\n      <th>11</th>\n      <td>8</td>\n      <td>894</td>\n      <td>92</td>\n      <td>0.808737</td>\n    </tr>\n    <tr>\n      <th>8</th>\n      <td>9</td>\n      <td>907</td>\n      <td>11</td>\n      <td>0.808708</td>\n    </tr>\n    <tr>\n      <th>20</th>\n      <td>10</td>\n      <td>535</td>\n      <td>92</td>\n      <td>0.808665</td>\n    </tr>\n    <tr>\n      <th>26</th>\n      <td>11</td>\n      <td>879</td>\n      <td>77</td>\n      <td>0.808597</td>\n    </tr>\n    <tr>\n      <th>19</th>\n      <td>12</td>\n      <td>669</td>\n      <td>81</td>\n      <td>0.808562</td>\n    </tr>\n    <tr>\n      <th>9</th>\n      <td>13</td>\n      <td>496</td>\n      <td>38</td>\n      <td>0.808561</td>\n    </tr>\n    <tr>\n      <th>7</th>\n      <td>14</td>\n      <td>574</td>\n      <td>52</td>\n      <td>0.808534</td>\n    </tr>\n    <tr>\n      <th>17</th>\n      <td>15</td>\n      <td>370</td>\n      <td>98</td>\n      <td>0.808436</td>\n    </tr>\n    <tr>\n      <th>22</th>\n      <td>16</td>\n      <td>406</td>\n      <td>16</td>\n      <td>0.808382</td>\n    </tr>\n    <tr>\n      <th>23</th>\n      <td>17</td>\n      <td>743</td>\n      <td>24</td>\n      <td>0.808378</td>\n    </tr>\n    <tr>\n      <th>0</th>\n      <td>18</td>\n      <td>708</td>\n      <td>54</td>\n      <td>0.808355</td>\n    </tr>\n    <tr>\n      <th>6</th>\n      <td>19</td>\n      <td>781</td>\n      <td>97</td>\n      <td>0.808343</td>\n    </tr>\n    <tr>\n      <th>1</th>\n      <td>20</td>\n      <td>981</td>\n      <td>27</td>\n      <td>0.808327</td>\n    </tr>\n    <tr>\n      <th>13</th>\n      <td>21</td>\n      <td>442</td>\n      <td>12</td>\n      <td>0.808222</td>\n    </tr>\n    <tr>\n      <th>14</th>\n      <td>22</td>\n      <td>628</td>\n      <td>11</td>\n      <td>0.808210</td>\n    </tr>\n    <tr>\n      <th>3</th>\n      <td>23</td>\n      <td>805</td>\n      <td>16</td>\n      <td>0.808181</td>\n    </tr>\n    <tr>\n      <th>4</th>\n      <td>24</td>\n      <td>319</td>\n      <td>25</td>\n      <td>0.808072</td>\n    </tr>\n    <tr>\n      <th>29</th>\n      <td>25</td>\n      <td>180</td>\n      <td>86</td>\n      <td>0.808022</td>\n    </tr>\n    <tr>\n      <th>24</th>\n      <td>26</td>\n      <td>127</td>\n      <td>22</td>\n      <td>0.807723</td>\n    </tr>\n    <tr>\n      <th>2</th>\n      <td>27</td>\n      <td>152</td>\n      <td>54</td>\n      <td>0.807646</td>\n    </tr>\n    <tr>\n      <th>27</th>\n      <td>28</td>\n      <td>125</td>\n      <td>19</td>\n      <td>0.806838</td>\n    </tr>\n    <tr>\n      <th>16</th>\n      <td>29</td>\n      <td>100</td>\n      <td>95</td>\n      <td>0.806588</td>\n    </tr>\n    <tr>\n      <th>21</th>\n      <td>30</td>\n      <td>849</td>\n      <td>6</td>\n      <td>0.803877</td>\n    </tr>\n    <tr>\n      <th>15</th>\n      <td>31</td>\n      <td>239</td>\n      <td>4</td>\n      <td>0.779828</td>\n    </tr>\n    <tr>\n      <th>25</th>\n      <td>32</td>\n      <td>343</td>\n      <td>3</td>\n      <td>0.754247</td>\n    </tr>\n  </tbody>\n</table>\n</div>"
     },
     "execution_count": 4,
     "metadata": {},
     "output_type": "execute_result"
    }
   ],
   "source": [
    "import pandas as pd\n",
    "%store -r opt_rf\n",
    "rf_df = pd.DataFrame.from_dict(opt_rf.cv_results_)\n",
    "rf_df.sort_values('rank_test_score')[['rank_test_score', 'param_n_estimators', 'param_max_depth','mean_test_score']]"
   ],
   "metadata": {
    "collapsed": false,
    "pycharm": {
     "name": "#%%\n"
    }
   }
  },
  {
   "cell_type": "markdown",
   "source": [
    "#### SVR"
   ],
   "metadata": {
    "collapsed": false
   }
  },
  {
   "cell_type": "code",
   "execution_count": 46,
   "outputs": [
    {
     "name": "stdout",
     "output_type": "stream",
     "text": [
      "Stored 'opt_svr' (BayesSearchCV)\n"
     ]
    }
   ],
   "source": [
    "from skopt import BayesSearchCV\n",
    "from sklearn.pipeline import make_pipeline\n",
    "from sklearn.preprocessing import StandardScaler\n",
    "from sklearn.svm import SVR\n",
    "\n",
    "pip = make_pipeline(StandardScaler(), SVR(kernel='rbf'))\n",
    "opt_svr = BayesSearchCV(\n",
    "    pip,\n",
    "    search_spaces={ \"svr__C\": (1e-3, 1e+2), \"svr__gamma\": (1e-6, 1)},\n",
    "    random_state=0,\n",
    "    n_iter=32,\n",
    "    n_jobs=6)\n",
    "_ = opt_svr.fit(X_train, y_train)\n",
    "%store opt_svr"
   ],
   "metadata": {
    "collapsed": false,
    "pycharm": {
     "name": "#%%\n"
    }
   }
  },
  {
   "cell_type": "code",
   "execution_count": 47,
   "outputs": [
    {
     "name": "stdout",
     "output_type": "stream",
     "text": [
      "val. score: 0.7885137064652358\n",
      "test score: 0.8076653418392263\n",
      "best params: OrderedDict([('svr__C', 42.713392298939276), ('svr__gamma', 0.06310535770609077)])\n"
     ]
    }
   ],
   "source": [
    "%store -r opt_svr\n",
    "print(\"val. score: %s\" % opt_svr.best_score_)\n",
    "print(\"test score: %s\" % opt_svr.score(X_test, y_test))\n",
    "print(\"best params: %s\" % str(opt_svr.best_params_))"
   ],
   "metadata": {
    "collapsed": false,
    "pycharm": {
     "name": "#%%\n"
    }
   }
  },
  {
   "cell_type": "code",
   "execution_count": 3,
   "outputs": [
    {
     "data": {
      "text/plain": "    rank_test_score  param_svr__C  param_svr__gamma  mean_test_score\n12                1     42.713392          0.063105         0.788514\n2                 2     52.869646          0.057899         0.788212\n20                3     22.403272          0.082771         0.786663\n26                4      8.315085          0.081545         0.785234\n17                5     18.327400          0.109188         0.781350\n13                6     92.948632          0.066620         0.781020\n19                7     88.509578          0.084767         0.779066\n25                8     98.807952          0.085422         0.777824\n14                9     36.624100          0.215107         0.753811\n16               10    100.000000          0.178836         0.751607\n23               11      4.353850          0.141112         0.750590\n4                12     23.252170          0.243337         0.745384\n30               13     90.635764          0.231198         0.736958\n15               14    100.000000          0.231136         0.735149\n28               15     90.134960          0.251410         0.730643\n24               16     89.953670          0.279721         0.721619\n18               17     41.230728          0.320206         0.717966\n31               18     93.502017          0.325125         0.706087\n21               19     82.763233          0.377120         0.689821\n29               20      5.102628          0.266920         0.686299\n9                21     36.954328          0.440184         0.673326\n7                22     51.049394          0.526980         0.638244\n22               23     98.617464          0.596763         0.604943\n0                24     53.096886          0.676080         0.578520\n6                25     96.713155          0.756553         0.542214\n3                26     14.742834          0.783266         0.484991\n5                27     83.816800          0.991224         0.455323\n1                28     25.837908          0.978904         0.447533\n8                29      9.206358          0.896173         0.380838\n10               30    100.000000          0.000001         0.298966\n11               31     45.508070          0.000001         0.120179\n27               32      0.001000          0.082732        -0.067979",
      "text/html": "<div>\n<style scoped>\n    .dataframe tbody tr th:only-of-type {\n        vertical-align: middle;\n    }\n\n    .dataframe tbody tr th {\n        vertical-align: top;\n    }\n\n    .dataframe thead th {\n        text-align: right;\n    }\n</style>\n<table border=\"1\" class=\"dataframe\">\n  <thead>\n    <tr style=\"text-align: right;\">\n      <th></th>\n      <th>rank_test_score</th>\n      <th>param_svr__C</th>\n      <th>param_svr__gamma</th>\n      <th>mean_test_score</th>\n    </tr>\n  </thead>\n  <tbody>\n    <tr>\n      <th>12</th>\n      <td>1</td>\n      <td>42.713392</td>\n      <td>0.063105</td>\n      <td>0.788514</td>\n    </tr>\n    <tr>\n      <th>2</th>\n      <td>2</td>\n      <td>52.869646</td>\n      <td>0.057899</td>\n      <td>0.788212</td>\n    </tr>\n    <tr>\n      <th>20</th>\n      <td>3</td>\n      <td>22.403272</td>\n      <td>0.082771</td>\n      <td>0.786663</td>\n    </tr>\n    <tr>\n      <th>26</th>\n      <td>4</td>\n      <td>8.315085</td>\n      <td>0.081545</td>\n      <td>0.785234</td>\n    </tr>\n    <tr>\n      <th>17</th>\n      <td>5</td>\n      <td>18.327400</td>\n      <td>0.109188</td>\n      <td>0.781350</td>\n    </tr>\n    <tr>\n      <th>13</th>\n      <td>6</td>\n      <td>92.948632</td>\n      <td>0.066620</td>\n      <td>0.781020</td>\n    </tr>\n    <tr>\n      <th>19</th>\n      <td>7</td>\n      <td>88.509578</td>\n      <td>0.084767</td>\n      <td>0.779066</td>\n    </tr>\n    <tr>\n      <th>25</th>\n      <td>8</td>\n      <td>98.807952</td>\n      <td>0.085422</td>\n      <td>0.777824</td>\n    </tr>\n    <tr>\n      <th>14</th>\n      <td>9</td>\n      <td>36.624100</td>\n      <td>0.215107</td>\n      <td>0.753811</td>\n    </tr>\n    <tr>\n      <th>16</th>\n      <td>10</td>\n      <td>100.000000</td>\n      <td>0.178836</td>\n      <td>0.751607</td>\n    </tr>\n    <tr>\n      <th>23</th>\n      <td>11</td>\n      <td>4.353850</td>\n      <td>0.141112</td>\n      <td>0.750590</td>\n    </tr>\n    <tr>\n      <th>4</th>\n      <td>12</td>\n      <td>23.252170</td>\n      <td>0.243337</td>\n      <td>0.745384</td>\n    </tr>\n    <tr>\n      <th>30</th>\n      <td>13</td>\n      <td>90.635764</td>\n      <td>0.231198</td>\n      <td>0.736958</td>\n    </tr>\n    <tr>\n      <th>15</th>\n      <td>14</td>\n      <td>100.000000</td>\n      <td>0.231136</td>\n      <td>0.735149</td>\n    </tr>\n    <tr>\n      <th>28</th>\n      <td>15</td>\n      <td>90.134960</td>\n      <td>0.251410</td>\n      <td>0.730643</td>\n    </tr>\n    <tr>\n      <th>24</th>\n      <td>16</td>\n      <td>89.953670</td>\n      <td>0.279721</td>\n      <td>0.721619</td>\n    </tr>\n    <tr>\n      <th>18</th>\n      <td>17</td>\n      <td>41.230728</td>\n      <td>0.320206</td>\n      <td>0.717966</td>\n    </tr>\n    <tr>\n      <th>31</th>\n      <td>18</td>\n      <td>93.502017</td>\n      <td>0.325125</td>\n      <td>0.706087</td>\n    </tr>\n    <tr>\n      <th>21</th>\n      <td>19</td>\n      <td>82.763233</td>\n      <td>0.377120</td>\n      <td>0.689821</td>\n    </tr>\n    <tr>\n      <th>29</th>\n      <td>20</td>\n      <td>5.102628</td>\n      <td>0.266920</td>\n      <td>0.686299</td>\n    </tr>\n    <tr>\n      <th>9</th>\n      <td>21</td>\n      <td>36.954328</td>\n      <td>0.440184</td>\n      <td>0.673326</td>\n    </tr>\n    <tr>\n      <th>7</th>\n      <td>22</td>\n      <td>51.049394</td>\n      <td>0.526980</td>\n      <td>0.638244</td>\n    </tr>\n    <tr>\n      <th>22</th>\n      <td>23</td>\n      <td>98.617464</td>\n      <td>0.596763</td>\n      <td>0.604943</td>\n    </tr>\n    <tr>\n      <th>0</th>\n      <td>24</td>\n      <td>53.096886</td>\n      <td>0.676080</td>\n      <td>0.578520</td>\n    </tr>\n    <tr>\n      <th>6</th>\n      <td>25</td>\n      <td>96.713155</td>\n      <td>0.756553</td>\n      <td>0.542214</td>\n    </tr>\n    <tr>\n      <th>3</th>\n      <td>26</td>\n      <td>14.742834</td>\n      <td>0.783266</td>\n      <td>0.484991</td>\n    </tr>\n    <tr>\n      <th>5</th>\n      <td>27</td>\n      <td>83.816800</td>\n      <td>0.991224</td>\n      <td>0.455323</td>\n    </tr>\n    <tr>\n      <th>1</th>\n      <td>28</td>\n      <td>25.837908</td>\n      <td>0.978904</td>\n      <td>0.447533</td>\n    </tr>\n    <tr>\n      <th>8</th>\n      <td>29</td>\n      <td>9.206358</td>\n      <td>0.896173</td>\n      <td>0.380838</td>\n    </tr>\n    <tr>\n      <th>10</th>\n      <td>30</td>\n      <td>100.000000</td>\n      <td>0.000001</td>\n      <td>0.298966</td>\n    </tr>\n    <tr>\n      <th>11</th>\n      <td>31</td>\n      <td>45.508070</td>\n      <td>0.000001</td>\n      <td>0.120179</td>\n    </tr>\n    <tr>\n      <th>27</th>\n      <td>32</td>\n      <td>0.001000</td>\n      <td>0.082732</td>\n      <td>-0.067979</td>\n    </tr>\n  </tbody>\n</table>\n</div>"
     },
     "execution_count": 3,
     "metadata": {},
     "output_type": "execute_result"
    }
   ],
   "source": [
    "import pandas as pd\n",
    "%store -r opt_svr\n",
    "svr_df = pd.DataFrame.from_dict(opt_svr.cv_results_)\n",
    "svr_df.sort_values('rank_test_score')[['rank_test_score', 'param_svr__C', 'param_svr__gamma','mean_test_score']]"
   ],
   "metadata": {
    "collapsed": false,
    "pycharm": {
     "name": "#%%\n"
    }
   }
  }
 ],
 "metadata": {
  "kernelspec": {
   "display_name": "Python 3",
   "language": "python",
   "name": "python3"
  },
  "language_info": {
   "codemirror_mode": {
    "name": "ipython",
    "version": 3
   },
   "file_extension": ".py",
   "mimetype": "text/x-python",
   "name": "python",
   "nbconvert_exporter": "python",
   "pygments_lexer": "ipython3",
   "version": "3.7.6"
  }
 },
 "nbformat": 4,
 "nbformat_minor": 4
}