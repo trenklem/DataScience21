{
 "nbformat": 4,
 "nbformat_minor": 0,
 "metadata": {
  "colab": {
   "name": "6_a_Non-Linear_Classification.ipynb",
   "provenance": [],
   "collapsed_sections": []
  },
  "kernelspec": {
   "display_name": "Python 3",
   "language": "python",
   "name": "python3"
  },
  "language_info": {
   "codemirror_mode": {
    "name": "ipython",
    "version": 3
   },
   "file_extension": ".py",
   "mimetype": "text/x-python",
   "name": "python",
   "nbconvert_exporter": "python",
   "pygments_lexer": "ipython3",
   "version": "3.7.6"
  }
 },
 "cells": [
  {
   "cell_type": "markdown",
   "metadata": {
    "id": "TEKk_TCN505k"
   },
   "source": [
    "# Block 6 Exercise 1: Non-Linear Classification"
   ]
  },
  {
   "cell_type": "markdown",
   "metadata": {
    "id": "yMfdTX5e505q"
   },
   "source": [
    "## MNIST Data\n",
    "We return to the MNIST data set on handwritten digits to compare non-linear classification algorithms ...   "
   ]
  },
  {
   "cell_type": "code",
   "metadata": {
    "id": "3o0Ef-9F505s"
   },
   "source": [
    "#imports \n",
    "import matplotlib.pyplot as plt\n",
    "import numpy as np\n",
    "from sklearn.datasets import fetch_openml\n",
    "\n",
    "from sklearn.pipeline import make_pipeline\n",
    "from sklearn.preprocessing import StandardScaler\n",
    "from sklearn.neural_network import MLPClassifier\n",
    "from sklearn.metrics import f1_score"
   ],
   "execution_count": 20,
   "outputs": []
  },
  {
   "cell_type": "code",
   "metadata": {
    "id": "xcgGOFp2505u"
   },
   "source": [
    "# Load data from https://www.openml.org/d/554\n",
    "X, y = fetch_openml('mnist_784', version=1, return_X_y=True)\n"
   ],
   "execution_count": 21,
   "outputs": []
  },
  {
   "cell_type": "code",
   "metadata": {
    "colab": {
     "base_uri": "https://localhost:8080/"
    },
    "id": "SjfLV6cU505u",
    "outputId": "03c28298-5874-4bfc-a1d2-b742a332466b"
   },
   "source": [
    "#the full MNIST data set contains 70k samples of digits 0-9 as 28*28 gray scale images (represented as 784 dim vectors)\n",
    "np.shape(X)"
   ],
   "execution_count": 22,
   "outputs": [
    {
     "data": {
      "text/plain": "(70000, 784)"
     },
     "execution_count": 22,
     "metadata": {},
     "output_type": "execute_result"
    }
   ]
  },
  {
   "cell_type": "markdown",
   "metadata": {
    "id": "1uXir7jZGlMx"
   },
   "source": []
  },
  {
   "cell_type": "code",
   "metadata": {
    "colab": {
     "base_uri": "https://localhost:8080/"
    },
    "id": "RE3PeCe3505w",
    "outputId": "2251a3eb-a543-4674-d2e1-6b8f076094e9"
   },
   "source": [
    "X.min()"
   ],
   "execution_count": 23,
   "outputs": [
    {
     "data": {
      "text/plain": "0.0"
     },
     "execution_count": 23,
     "metadata": {},
     "output_type": "execute_result"
    }
   ]
  },
  {
   "cell_type": "code",
   "metadata": {
    "colab": {
     "base_uri": "https://localhost:8080/"
    },
    "id": "ji3fDw36505x",
    "outputId": "56f93003-bac6-4e18-8068-5fbe35d7da6a"
   },
   "source": [
    "#look at max/min value in the data\n",
    "X.max()"
   ],
   "execution_count": 5,
   "outputs": [
    {
     "data": {
      "text/plain": "pixel1       0.0\npixel2       0.0\npixel3       0.0\npixel4       0.0\npixel5       0.0\n            ... \npixel780    62.0\npixel781     0.0\npixel782     0.0\npixel783     0.0\npixel784     0.0\nLength: 784, dtype: float64"
     },
     "execution_count": 5,
     "metadata": {},
     "output_type": "execute_result"
    }
   ]
  },
  {
   "cell_type": "markdown",
   "metadata": {
    "id": "x7GSuNlc505y"
   },
   "source": [
    "### E1.1: Cross-Validation and Support Vector Machines\n",
    "Train and optimize  C-SVM classifier on MNIST (https://scikit-learn.org/stable/modules/generated/sklearn.svm.SVC.html#sklearn.svm.SVC)\n",
    "* use a RBF kernel\n",
    "* use *random search* with cross-validation to find the best settings for *gamma* and *C* (https://scikit-learn.org/stable/modules/generated/sklearn.model_selection.RandomizedSearchCV.html#sklearn.model_selection.RandomizedSearchCV)\n"
   ]
  },
  {
   "cell_type": "code",
   "metadata": {
    "id": "9tFi2DgQ505y",
    "colab": {
     "base_uri": "https://localhost:8080/",
     "height": 380
    },
    "outputId": "9f86fe37-d5f6-409c-b2e8-7376b6488283"
   },
   "source": [
    "from sklearn.pipeline import make_pipeline\n",
    "from sklearn.preprocessing import StandardScaler\n",
    "from sklearn.svm import SVC\n",
    "from sklearn.model_selection import RandomizedSearchCV\n",
    "from scipy.stats import uniform\n",
    "\n",
    "pip = make_pipeline(StandardScaler(), SVC(kernel='rbf', max_iter=50))\n",
    "distributions = dict(svc__C=uniform(loc=1, scale=10),svc__gamma=[0.0001,0.001,0.01,1])\n",
    "\n",
    "clf = RandomizedSearchCV(pip, distributions, random_state=0, n_jobs=-1, n_iter=10)\n",
    "search = clf.fit(X, y)\n",
    "%store search"
   ],
   "execution_count": 6,
   "outputs": [
    {
     "name": "stdout",
     "output_type": "stream",
     "text": [
      "Stored 'search' (RandomizedSearchCV)\n"
     ]
    },
    {
     "name": "stderr",
     "output_type": "stream",
     "text": [
      "c:\\users\\lutz\\documents\\github\\datascience21\\block_6\\venv\\lib\\site-packages\\sklearn\\svm\\_base.py:258: ConvergenceWarning: Solver terminated early (max_iter=50).  Consider pre-processing your data with StandardScaler or MinMaxScaler.\n",
      "  % self.max_iter, ConvergenceWarning)\n"
     ]
    }
   ]
  },
  {
   "cell_type": "code",
   "metadata": {
    "id": "PVYOhWhmKrn5"
   },
   "source": [
    "%store -r search\n",
    "search.best_params_"
   ],
   "execution_count": 2,
   "outputs": [
    {
     "data": {
      "text/plain": "{'svc__C': 6.4881350392732475, 'svc__gamma': 0.001}"
     },
     "execution_count": 2,
     "metadata": {},
     "output_type": "execute_result"
    }
   ]
  },
  {
   "cell_type": "markdown",
   "metadata": {
    "id": "97SE9V7W5050"
   },
   "source": [
    "### E1.2: Pipelines and simple Neural Networks\n",
    "Split the MNIST data into  train- and test-sets and then train and evaluate a simple Multi Layer Perceptron (MLP) network. Since the non-linear activation functions of MLPs are sensitive to the scaling on the input (recall the *sigmoid* function), we need to scale all input values to [0,1] \n",
    "\n",
    "* combine all steps of your training in a SKL pipeline (https://scikit-learn.org/stable/modules/compose.html#pipeline)\n",
    "* use a SKL-scaler to scale the data (https://scikit-learn.org/stable/modules/generated/sklearn.preprocessing.StandardScaler.html)\n",
    "* MLP Parameters: https://scikit-learn.org/stable/modules/generated/sklearn.neural_network.MLPClassifier.html#sklearn.neural_network.MLPClassifier\n",
    "    * use a *SGD* solver\n",
    "    * use *tanh* as activation function\n",
    "    * compare networks with 1, 2 and 3 layers, use different numbers of neurons per layer\n",
    "    * adjust training parameters *alpha* (regularization) and *learning rate* - how sensitive is the model to these parameters?\n",
    "    * Hint: do not change all parameters at the same time, split into several experiments\n",
    "* How hard is it to find the best parameters? How many experiments would you need to find the best parameters?\n",
    "    "
   ]
  },
  {
   "cell_type": "code",
   "metadata": {
    "id": "tIwnSJsF5051"
   },
   "source": [
    "from sklearn.model_selection import train_test_split\n",
    "X_train, X_test, y_train, y_test = train_test_split(X, y, random_state=42)"
   ],
   "execution_count": 24,
   "outputs": []
  },
  {
   "cell_type": "markdown",
   "source": [
    "#### 1 Layer NN"
   ],
   "metadata": {
    "collapsed": false
   }
  },
  {
   "cell_type": "code",
   "metadata": {
    "id": "TRuFdw5b5052"
   },
   "source": [
    "pip_1_layer = make_pipeline(StandardScaler(), MLPClassifier(random_state=1, solver='sgd', activation='tanh', hidden_layer_sizes=(88,), max_iter=100))\n",
    "pip_1_layer.fit(X_train, y_train)\n",
    "%store pip_1_layer\n"
   ],
   "execution_count": 9,
   "outputs": [
    {
     "name": "stdout",
     "output_type": "stream",
     "text": [
      "Stored 'pip_1_layer' (Pipeline)\n"
     ]
    },
    {
     "name": "stderr",
     "output_type": "stream",
     "text": [
      "c:\\users\\lutz\\documents\\github\\datascience21\\block_6\\venv\\lib\\site-packages\\sklearn\\neural_network\\_multilayer_perceptron.py:617: ConvergenceWarning: Stochastic Optimizer: Maximum iterations (100) reached and the optimization hasn't converged yet.\n",
      "  % self.max_iter, ConvergenceWarning)\n"
     ]
    }
   ]
  },
  {
   "cell_type": "code",
   "metadata": {
    "id": "VcK36TiNLMWX"
   },
   "source": [
    "%store -r pip_1_layer \n",
    "pred_1_layer = pip_1_layer.predict(X_test)\n",
    "print(f'F1: {f1_score(y_test, pred_1_layer, average=\"micro\")}')"
   ],
   "execution_count": 10,
   "outputs": [
    {
     "name": "stdout",
     "output_type": "stream",
     "text": [
      "F1: 0.9514857142857143\n"
     ]
    }
   ]
  },
  {
   "cell_type": "markdown",
   "source": [
    "#### 2 Layer NN"
   ],
   "metadata": {
    "collapsed": false
   }
  },
  {
   "cell_type": "code",
   "metadata": {
    "id": "N5l-GDpo7Ok2"
   },
   "source": [
    "pip_2_layer = make_pipeline(StandardScaler(), MLPClassifier(random_state=1, solver='sgd', activation='tanh', hidden_layer_sizes=(88,44), max_iter=100))\n",
    "pip_2_layer.fit(X_train, y_train)\n",
    "%store pip_2_layer"
   ],
   "execution_count": 11,
   "outputs": [
    {
     "name": "stdout",
     "output_type": "stream",
     "text": [
      "Stored 'pip_2_layer' (Pipeline)\n"
     ]
    },
    {
     "name": "stderr",
     "output_type": "stream",
     "text": [
      "c:\\users\\lutz\\documents\\github\\datascience21\\block_6\\venv\\lib\\site-packages\\sklearn\\neural_network\\_multilayer_perceptron.py:617: ConvergenceWarning: Stochastic Optimizer: Maximum iterations (100) reached and the optimization hasn't converged yet.\n",
      "  % self.max_iter, ConvergenceWarning)\n"
     ]
    }
   ]
  },
  {
   "cell_type": "code",
   "metadata": {
    "id": "TjSJDy-pLio_"
   },
   "source": [
    "%store -r pip_2_layer \n",
    "pred_2_layer = pip_2_layer.predict(X_test)\n",
    "print(f'F1: {f1_score(y_test, pred_2_layer, average=\"micro\")}')"
   ],
   "execution_count": 12,
   "outputs": [
    {
     "name": "stdout",
     "output_type": "stream",
     "text": [
      "F1: 0.9568571428571429\n"
     ]
    }
   ]
  },
  {
   "cell_type": "markdown",
   "source": [
    "#### 3 Layer NN"
   ],
   "metadata": {
    "collapsed": false
   }
  },
  {
   "cell_type": "code",
   "metadata": {
    "id": "lnyC66Qc9RkX"
   },
   "source": [
    "pip_3_layer = make_pipeline(StandardScaler(), MLPClassifier(random_state=1, solver='sgd', activation='tanh', hidden_layer_sizes=(88,44,22), max_iter=100))\n",
    "pip_3_layer.fit(X_train, y_train)\n",
    "%store pip_3_layer"
   ],
   "execution_count": 13,
   "outputs": [
    {
     "name": "stdout",
     "output_type": "stream",
     "text": [
      "Stored 'pip_3_layer' (Pipeline)\n"
     ]
    },
    {
     "name": "stderr",
     "output_type": "stream",
     "text": [
      "c:\\users\\lutz\\documents\\github\\datascience21\\block_6\\venv\\lib\\site-packages\\sklearn\\neural_network\\_multilayer_perceptron.py:617: ConvergenceWarning: Stochastic Optimizer: Maximum iterations (100) reached and the optimization hasn't converged yet.\n",
      "  % self.max_iter, ConvergenceWarning)\n"
     ]
    }
   ]
  },
  {
   "cell_type": "code",
   "metadata": {
    "id": "8mGaPzjdLwC_"
   },
   "source": [
    "%store -r pip_3_layer \n",
    "pred_3_layer = pip_3_layer.predict(X_test)\n",
    "print(f'F1: {f1_score(y_test, pred_3_layer, average=\"micro\")}')"
   ],
   "execution_count": 14,
   "outputs": [
    {
     "name": "stdout",
     "output_type": "stream",
     "text": [
      "F1: 0.9546285714285714\n"
     ]
    }
   ]
  },
  {
   "cell_type": "code",
   "metadata": {
    "id": "4xP8UaRY5053"
   },
   "source": [
    "%store -r pip_1_layer \n",
    "%store -r pip_2_layer \n",
    "%store -r pip_3_layer \n",
    "\n",
    "import matplotlib.pyplot as plt\n",
    "plt.figure(num = 3, figsize=(8, 5))\n",
    "x1 = range(0, len(pip_1_layer[1].loss_curve_))\n",
    "x2 = range(0, len(pip_2_layer[1].loss_curve_))\n",
    "x3 = range(0, len(pip_3_layer[1].loss_curve_))\n",
    "plt.plot(x1, pip_1_layer[1].loss_curve_, color='red')\n",
    "plt.plot(x2, pip_2_layer[1].loss_curve_, color='green')\n",
    "plt.plot(x3, pip_3_layer[1].loss_curve_, color='blue')\n",
    "plt.show()"
   ],
   "execution_count": 1,
   "outputs": [
    {
     "data": {
      "text/plain": "<Figure size 576x360 with 1 Axes>",
      "image/png": "[encoded data removed]"
     },
     "metadata": {
      "needs_background": "light"
     },
     "output_type": "display_data"
    }
   ]
  },
  {
   "cell_type": "markdown",
   "source": [
    "Die Anzahl der Layer hat keinen signifikaten Einfluss auf den F1 Score. Der Loss steigt mit steigender Anzahl Layer marginal.\n",
    "\n",
    "#### Alpha Optimization"
   ],
   "metadata": {
    "collapsed": false
   }
  },
  {
   "cell_type": "code",
   "metadata": {
    "id": "APqjrxCQJJlk"
   },
   "source": [
    "from sklearn.model_selection import GridSearchCV\n",
    "\n",
    "parameters = {'mlpclassifier__alpha':[0.00001, 0.0001, 0.001, 0.01, 0.1, 0.2, 0.3, 0.4, 0.5]}\n",
    "pip_alpha_opti = make_pipeline(StandardScaler(), MLPClassifier(random_state=1, solver='sgd', activation='tanh', max_iter=100))\n",
    "clf_alpha_opti = GridSearchCV(pip_alpha_opti, parameters, n_jobs= 6)\n",
    "clf_alpha_opti.fit(X_train, y_train)\n",
    "%store clf_alpha_opti"
   ],
   "execution_count": 10,
   "outputs": [
    {
     "name": "stdout",
     "output_type": "stream",
     "text": [
      "Stored 'clf_alpha_opti' (GridSearchCV)\n"
     ]
    },
    {
     "name": "stderr",
     "output_type": "stream",
     "text": [
      "c:\\users\\lutz\\documents\\github\\datascience21\\block_6\\venv\\lib\\site-packages\\sklearn\\neural_network\\_multilayer_perceptron.py:617: ConvergenceWarning: Stochastic Optimizer: Maximum iterations (100) reached and the optimization hasn't converged yet.\n",
      "  % self.max_iter, ConvergenceWarning)\n"
     ]
    }
   ]
  },
  {
   "cell_type": "code",
   "metadata": {
    "id": "Nbvr2WVejJ6F"
   },
   "source": [
    "%store -r clf_alpha_opti \n",
    "pred_alpha_opti= clf_alpha_opti.predict(X_test)\n",
    "print(f'F1: {f1_score(y_test, pred_alpha_opti, average=\"micro\")}')\n",
    "print(f'Best alpha {clf_alpha_opti.best_params_}')"
   ],
   "execution_count": 11,
   "outputs": [
    {
     "name": "stdout",
     "output_type": "stream",
     "text": [
      "F1: 0.9542857142857143\n",
      "Best alpha {'mlpclassifier__alpha': 0.3}\n"
     ]
    }
   ]
  },
  {
   "cell_type": "code",
   "execution_count": 16,
   "outputs": [
    {
     "data": {
      "text/plain": "   rank_test_score param_mlpclassifier__alpha  mean_test_score\n6                1                        0.3         0.949200\n8                2                        0.5         0.949181\n5                3                        0.2         0.949048\n7                4                        0.4         0.949029\n4                5                        0.1         0.948895\n0                6                    0.00001         0.948533\n1                6                     0.0001         0.948533\n3                6                       0.01         0.948533\n2                9                      0.001         0.948514",
      "text/html": "<div>\n<style scoped>\n    .dataframe tbody tr th:only-of-type {\n        vertical-align: middle;\n    }\n\n    .dataframe tbody tr th {\n        vertical-align: top;\n    }\n\n    .dataframe thead th {\n        text-align: right;\n    }\n</style>\n<table border=\"1\" class=\"dataframe\">\n  <thead>\n    <tr style=\"text-align: right;\">\n      <th></th>\n      <th>rank_test_score</th>\n      <th>param_mlpclassifier__alpha</th>\n      <th>mean_test_score</th>\n    </tr>\n  </thead>\n  <tbody>\n    <tr>\n      <th>6</th>\n      <td>1</td>\n      <td>0.3</td>\n      <td>0.949200</td>\n    </tr>\n    <tr>\n      <th>8</th>\n      <td>2</td>\n      <td>0.5</td>\n      <td>0.949181</td>\n    </tr>\n    <tr>\n      <th>5</th>\n      <td>3</td>\n      <td>0.2</td>\n      <td>0.949048</td>\n    </tr>\n    <tr>\n      <th>7</th>\n      <td>4</td>\n      <td>0.4</td>\n      <td>0.949029</td>\n    </tr>\n    <tr>\n      <th>4</th>\n      <td>5</td>\n      <td>0.1</td>\n      <td>0.948895</td>\n    </tr>\n    <tr>\n      <th>0</th>\n      <td>6</td>\n      <td>0.00001</td>\n      <td>0.948533</td>\n    </tr>\n    <tr>\n      <th>1</th>\n      <td>6</td>\n      <td>0.0001</td>\n      <td>0.948533</td>\n    </tr>\n    <tr>\n      <th>3</th>\n      <td>6</td>\n      <td>0.01</td>\n      <td>0.948533</td>\n    </tr>\n    <tr>\n      <th>2</th>\n      <td>9</td>\n      <td>0.001</td>\n      <td>0.948514</td>\n    </tr>\n  </tbody>\n</table>\n</div>"
     },
     "execution_count": 16,
     "metadata": {},
     "output_type": "execute_result"
    }
   ],
   "source": [
    "import pandas as pd\n",
    "%store -r clf_alpha_opti\n",
    "alpha_df = pd.DataFrame.from_dict(clf_alpha_opti.cv_results_)\n",
    "alpha_df.sort_values('rank_test_score')[['rank_test_score', 'param_mlpclassifier__alpha','mean_test_score']]"
   ],
   "metadata": {
    "collapsed": false,
    "pycharm": {
     "name": "#%%\n"
    }
   }
  },
  {
   "cell_type": "markdown",
   "source": [
    "Der Parameter Alpha hat fast keinen Einfluss auf das Modell\n",
    "\n",
    "#### LR Optimization"
   ],
   "metadata": {
    "collapsed": false
   }
  },
  {
   "cell_type": "code",
   "metadata": {
    "id": "NG3HJUevQ1jj"
   },
   "source": [
    "from sklearn.model_selection import GridSearchCV\n",
    "\n",
    "parameters = {'mlpclassifier__learning_rate_init':[0.00001, 0.0001, 0.001, 0.01, 0.1, 0.2, 0.3, 0.4 , 0.5]}\n",
    "pip_lr_opti = make_pipeline(StandardScaler(), MLPClassifier(random_state=1, solver='sgd', activation='tanh', max_iter=100))\n",
    "clf_lr_opti = GridSearchCV(pip_alpha_opti, parameters, n_jobs= 6)\n",
    "clf_lr_opti.fit(X_train, y_train)\n",
    "%store clf_lr_opti"
   ],
   "execution_count": 12,
   "outputs": [
    {
     "name": "stdout",
     "output_type": "stream",
     "text": [
      "Stored 'clf_lr_opti' (GridSearchCV)\n"
     ]
    }
   ]
  },
  {
   "cell_type": "code",
   "metadata": {
    "id": "wZr8l1EYkrs2"
   },
   "source": [
    "%store -r clf_lr_opti\n",
    "pred_lr_opti= clf_lr_opti.predict(X_test)\n",
    "print(f'F1: {f1_score(y_test, pred_lr_opti, average=\"micro\")}')\n",
    "print(f'Best alpha {clf_lr_opti.best_params_}')"
   ],
   "execution_count": 25,
   "outputs": [
    {
     "name": "stdout",
     "output_type": "stream",
     "text": [
      "F1: 0.9644\n",
      "Best alpha {'mlpclassifier__learning_rate_init': 0.1}\n"
     ]
    }
   ]
  },
  {
   "cell_type": "code",
   "execution_count": 19,
   "outputs": [
    {
     "data": {
      "text/plain": "   rank_test_score param_mlpclassifier__learning_rate_init  mean_test_score\n4                1                                     0.1         0.962133\n5                2                                     0.2         0.960114\n3                3                                    0.01         0.959410\n6                4                                     0.3         0.955333\n7                5                                     0.4         0.952229\n2                6                                   0.001         0.948533\n8                7                                     0.5         0.946533\n1                8                                  0.0001         0.910190\n0                9                                 0.00001         0.823905",
      "text/html": "<div>\n<style scoped>\n    .dataframe tbody tr th:only-of-type {\n        vertical-align: middle;\n    }\n\n    .dataframe tbody tr th {\n        vertical-align: top;\n    }\n\n    .dataframe thead th {\n        text-align: right;\n    }\n</style>\n<table border=\"1\" class=\"dataframe\">\n  <thead>\n    <tr style=\"text-align: right;\">\n      <th></th>\n      <th>rank_test_score</th>\n      <th>param_mlpclassifier__learning_rate_init</th>\n      <th>mean_test_score</th>\n    </tr>\n  </thead>\n  <tbody>\n    <tr>\n      <th>4</th>\n      <td>1</td>\n      <td>0.1</td>\n      <td>0.962133</td>\n    </tr>\n    <tr>\n      <th>5</th>\n      <td>2</td>\n      <td>0.2</td>\n      <td>0.960114</td>\n    </tr>\n    <tr>\n      <th>3</th>\n      <td>3</td>\n      <td>0.01</td>\n      <td>0.959410</td>\n    </tr>\n    <tr>\n      <th>6</th>\n      <td>4</td>\n      <td>0.3</td>\n      <td>0.955333</td>\n    </tr>\n    <tr>\n      <th>7</th>\n      <td>5</td>\n      <td>0.4</td>\n      <td>0.952229</td>\n    </tr>\n    <tr>\n      <th>2</th>\n      <td>6</td>\n      <td>0.001</td>\n      <td>0.948533</td>\n    </tr>\n    <tr>\n      <th>8</th>\n      <td>7</td>\n      <td>0.5</td>\n      <td>0.946533</td>\n    </tr>\n    <tr>\n      <th>1</th>\n      <td>8</td>\n      <td>0.0001</td>\n      <td>0.910190</td>\n    </tr>\n    <tr>\n      <th>0</th>\n      <td>9</td>\n      <td>0.00001</td>\n      <td>0.823905</td>\n    </tr>\n  </tbody>\n</table>\n</div>"
     },
     "execution_count": 19,
     "metadata": {},
     "output_type": "execute_result"
    }
   ],
   "source": [
    "import pandas as pd\n",
    "%store -r clf_lr_opti\n",
    "lr_df = pd.DataFrame.from_dict(clf_lr_opti.cv_results_)\n",
    "lr_df.sort_values('rank_test_score')[['rank_test_score', 'param_mlpclassifier__learning_rate_init','mean_test_score']]"
   ],
   "metadata": {
    "collapsed": false,
    "pycharm": {
     "name": "#%%\n"
    }
   }
  },
  {
   "cell_type": "markdown",
   "source": [
    "Der Parameter Learning Rate hat einen großen Einfluss auf das Modell\n",
    "\n",
    "#### Modell mit optimierten Parametern"
   ],
   "metadata": {
    "collapsed": false
   }
  },
  {
   "cell_type": "code",
   "metadata": {
    "id": "1amQP5uKAE_M"
   },
   "source": [
    "%store -r clf_alpha_opti\n",
    "%store -r clf_lr_opti\n",
    "pip = make_pipeline(StandardScaler(), MLPClassifier(random_state=1, solver='sgd', activation='tanh', max_iter=100,\n",
    "                                                    alpha=clf_alpha_opti.best_params_.get('mlpclassifier__alpha'),\n",
    "                                                    learning_rate_init=clf_lr_opti.best_params_.get('mlpclassifier__learning_rate_init')))\n",
    "pip.fit(X_train, y_train)\n",
    "%store pip"
   ],
   "execution_count": 19,
   "outputs": [
    {
     "name": "stdout",
     "output_type": "stream",
     "text": [
      "Stored 'pip' (Pipeline)\n"
     ]
    }
   ]
  },
  {
   "cell_type": "code",
   "metadata": {
    "id": "qJFJK1k0Mt4S"
   },
   "source": [
    "%store -r pip\n",
    "pred = pip.predict(X_test)\n",
    "print(f'F1: {f1_score(y_test, pred, average=\"micro\")}')"
   ],
   "execution_count": 20,
   "outputs": [
    {
     "name": "stdout",
     "output_type": "stream",
     "text": [
      "F1: 0.9670285714285715\n"
     ]
    }
   ]
  },
  {
   "cell_type": "markdown",
   "metadata": {
    "id": "27RBSlCRMs74"
   },
   "source": [
    "\n",
    "#### Modell mit default Parametern für Benchmark"
   ]
  },
  {
   "cell_type": "code",
   "execution_count": 22,
   "outputs": [
    {
     "name": "stdout",
     "output_type": "stream",
     "text": [
      "Stored 'default_pip' (Pipeline)\n"
     ]
    },
    {
     "name": "stderr",
     "output_type": "stream",
     "text": [
      "c:\\users\\lutz\\documents\\github\\datascience21\\block_6\\venv\\lib\\site-packages\\sklearn\\neural_network\\_multilayer_perceptron.py:617: ConvergenceWarning: Stochastic Optimizer: Maximum iterations (200) reached and the optimization hasn't converged yet.\n",
      "  % self.max_iter, ConvergenceWarning)\n"
     ]
    }
   ],
   "source": [
    "default_pip = make_pipeline(StandardScaler(), MLPClassifier(random_state=1, solver='sgd', activation='tanh'))\n",
    "default_pip.fit(X_train, y_train)\n",
    "%store default_pip"
   ],
   "metadata": {
    "collapsed": false,
    "pycharm": {
     "name": "#%%\n"
    }
   }
  },
  {
   "cell_type": "code",
   "execution_count": 23,
   "outputs": [
    {
     "name": "stdout",
     "output_type": "stream",
     "text": [
      "F1: 0.9594857142857143\n"
     ]
    }
   ],
   "source": [
    "%store -r default_pip\n",
    "default_pred = default_pip.predict(X_test)\n",
    "print(f'F1: {f1_score(y_test, default_pred, average=\"micro\")}')"
   ],
   "metadata": {
    "collapsed": false,
    "pycharm": {
     "name": "#%%\n"
    }
   }
  },
  {
   "cell_type": "code",
   "metadata": {
    "id": "fLQ6hM8xAaD4"
   },
   "source": [
    "%store -r pip_1_layer \n",
    "%store -r pip_2_layer \n",
    "%store -r pip_3_layer \n",
    "%store -r pip\n",
    "%store -r default_pip\n",
    "import matplotlib.pyplot as plt\n",
    "plt.figure(num = 3, figsize=(8, 5))\n",
    "x1 = range(0, len(pip_1_layer[1].loss_curve_))\n",
    "x2 = range(0, len(pip_2_layer[1].loss_curve_))\n",
    "x3 = range(0, len(pip_3_layer[1].loss_curve_))\n",
    "x4 = range(0, len(pip[1].loss_curve_))\n",
    "x5 = range(0, len(default_pip[1].loss_curve_))\n",
    "plt.plot(x1, pip_1_layer[1].loss_curve_, color='red')\n",
    "plt.plot(x2, pip_2_layer[1].loss_curve_, color='green')\n",
    "plt.plot(x3, pip_3_layer[1].loss_curve_, color='blue')\n",
    "plt.plot(x4, pip[1].loss_curve_, color='purple')\n",
    "plt.plot(x5, default_pip[1].loss_curve_, color='yellow')\n",
    "plt.show()"
   ],
   "execution_count": 24,
   "outputs": [
    {
     "data": {
      "text/plain": "<Figure size 576x360 with 1 Axes>",
      "image/png": "[encoded data removed]"
     },
     "metadata": {
      "needs_background": "light"
     },
     "output_type": "display_data"
    }
   ]
  },
  {
   "cell_type": "markdown",
   "source": [
    "Durch die Parameter Optimierung lässt sich der F1 Score um cira. 1.5 gegenüber den default Settings steigern.\n",
    "Außerdem waren weit weniger Iterationen nötig. Die besten Parameter zu finden ist nahezu unmöglich. Mit genügend\n",
    "Rechenleistung lässt sich vermutlich immer eine etwas bessere Parameterkonstellation finden. In einem nächsten Schritt\n",
    "könnte man eine erneute Suche mit einem kleineren Wertebereich um die aktuell besten Parameter anwenden. Vorher\n",
    "sollte aber ein Ziel gesetzt werden welcher Score erreicht werden soll und ab welcher minimalen Änderung man mit der optimierung\n",
    "stoppt. Hyperparameter dienen eher dem Finetuning. Eine signifikate Verbesserung lässt sich in der Regel nur durch bessere\n",
    "Daten und Features erreichen."
   ],
   "metadata": {
    "collapsed": false
   }
  }
 ]
}