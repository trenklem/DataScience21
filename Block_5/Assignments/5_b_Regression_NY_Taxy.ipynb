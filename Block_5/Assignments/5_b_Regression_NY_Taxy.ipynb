{
 "cells": [
  {
   "cell_type": "markdown",
   "metadata": {},
   "source": [
    "# Block 5 Exercise 2: Predicting the fare of taxi rides\n",
    "Using the NY Taxi data set (see Use Case Block I) and the use case from the lecture..."
   ]
  },
  {
   "cell_type": "code",
   "execution_count": 1,
   "metadata": {},
   "outputs": [],
   "source": [
    "import pandas as pd\n",
    "import numpy as np\n",
    "import folium\n"
   ]
  },
  {
   "cell_type": "code",
   "execution_count": 2,
   "metadata": {},
   "outputs": [],
   "source": [
    "# we load the data we have saved after wrangling and pre-processing in block I\n",
    "X=pd.read_csv('../../DATA/train_cleaned.csv')\n",
    "drop_columns=['Unnamed: 0','Unnamed: 0.1','Unnamed: 0.1.1','key','pickup_datetime','pickup_date','pickup_latitude_round3','pickup_longitude_round3','dropoff_latitude_round3','dropoff_longitude_round3']\n",
    "X=X.drop(drop_columns,axis=1)\n",
    "X=pd.get_dummies(X)# one hot coding\n",
    "#generate labels\n",
    "y=X['fare_amount']\n",
    "X=X.drop(['fare_amount'],axis=1)"
   ]
  },
  {
   "cell_type": "code",
   "execution_count": 3,
   "metadata": {},
   "outputs": [
    {
     "data": {
      "text/plain": "   pickup_longitude  pickup_latitude  dropoff_longitude  dropoff_latitude  \\\n0        -73.844311        40.721319         -73.841610         40.712278   \n1        -74.016048        40.711303         -73.979268         40.782004   \n2        -73.982738        40.761270         -73.991242         40.750562   \n3        -73.987130        40.733143         -73.991567         40.758092   \n4        -73.968095        40.768008         -73.956655         40.783762   \n\n   passenger_count  pickup_day  pickup_hour  pickup_day_of_week  pickup_month  \\\n0                1          15           17                   1             6   \n1                1           5           16                   2             1   \n2                2          18            0                   4             8   \n3                1          21            4                   6             4   \n4                1           9            7                   2             3   \n\n   pickup_year  ...  pickup_borough_manhattan  pickup_borough_others  \\\n0         2009  ...                         0                      0   \n1         2010  ...                         1                      0   \n2         2011  ...                         1                      0   \n3         2012  ...                         1                      0   \n4         2010  ...                         1                      0   \n\n   pickup_borough_queens  pickup_borough_staten_island  dropoff_borough_bronx  \\\n0                      1                             0                      0   \n1                      0                             0                      0   \n2                      0                             0                      0   \n3                      0                             0                      0   \n4                      0                             0                      0   \n\n   dropoff_borough_brooklyn  dropoff_borough_manhattan  \\\n0                         0                          0   \n1                         0                          1   \n2                         0                          1   \n3                         0                          1   \n4                         0                          1   \n\n   dropoff_borough_others  dropoff_borough_queens  \\\n0                       0                       1   \n1                       0                       0   \n2                       0                       0   \n3                       0                       0   \n4                       0                       0   \n\n   dropoff_borough_staten_island  \n0                              0  \n1                              0  \n2                              0  \n3                              0  \n4                              0  \n\n[5 rows x 31 columns]",
      "text/html": "<div>\n<style scoped>\n    .dataframe tbody tr th:only-of-type {\n        vertical-align: middle;\n    }\n\n    .dataframe tbody tr th {\n        vertical-align: top;\n    }\n\n    .dataframe thead th {\n        text-align: right;\n    }\n</style>\n<table border=\"1\" class=\"dataframe\">\n  <thead>\n    <tr style=\"text-align: right;\">\n      <th></th>\n      <th>pickup_longitude</th>\n      <th>pickup_latitude</th>\n      <th>dropoff_longitude</th>\n      <th>dropoff_latitude</th>\n      <th>passenger_count</th>\n      <th>pickup_day</th>\n      <th>pickup_hour</th>\n      <th>pickup_day_of_week</th>\n      <th>pickup_month</th>\n      <th>pickup_year</th>\n      <th>...</th>\n      <th>pickup_borough_manhattan</th>\n      <th>pickup_borough_others</th>\n      <th>pickup_borough_queens</th>\n      <th>pickup_borough_staten_island</th>\n      <th>dropoff_borough_bronx</th>\n      <th>dropoff_borough_brooklyn</th>\n      <th>dropoff_borough_manhattan</th>\n      <th>dropoff_borough_others</th>\n      <th>dropoff_borough_queens</th>\n      <th>dropoff_borough_staten_island</th>\n    </tr>\n  </thead>\n  <tbody>\n    <tr>\n      <th>0</th>\n      <td>-73.844311</td>\n      <td>40.721319</td>\n      <td>-73.841610</td>\n      <td>40.712278</td>\n      <td>1</td>\n      <td>15</td>\n      <td>17</td>\n      <td>1</td>\n      <td>6</td>\n      <td>2009</td>\n      <td>...</td>\n      <td>0</td>\n      <td>0</td>\n      <td>1</td>\n      <td>0</td>\n      <td>0</td>\n      <td>0</td>\n      <td>0</td>\n      <td>0</td>\n      <td>1</td>\n      <td>0</td>\n    </tr>\n    <tr>\n      <th>1</th>\n      <td>-74.016048</td>\n      <td>40.711303</td>\n      <td>-73.979268</td>\n      <td>40.782004</td>\n      <td>1</td>\n      <td>5</td>\n      <td>16</td>\n      <td>2</td>\n      <td>1</td>\n      <td>2010</td>\n      <td>...</td>\n      <td>1</td>\n      <td>0</td>\n      <td>0</td>\n      <td>0</td>\n      <td>0</td>\n      <td>0</td>\n      <td>1</td>\n      <td>0</td>\n      <td>0</td>\n      <td>0</td>\n    </tr>\n    <tr>\n      <th>2</th>\n      <td>-73.982738</td>\n      <td>40.761270</td>\n      <td>-73.991242</td>\n      <td>40.750562</td>\n      <td>2</td>\n      <td>18</td>\n      <td>0</td>\n      <td>4</td>\n      <td>8</td>\n      <td>2011</td>\n      <td>...</td>\n      <td>1</td>\n      <td>0</td>\n      <td>0</td>\n      <td>0</td>\n      <td>0</td>\n      <td>0</td>\n      <td>1</td>\n      <td>0</td>\n      <td>0</td>\n      <td>0</td>\n    </tr>\n    <tr>\n      <th>3</th>\n      <td>-73.987130</td>\n      <td>40.733143</td>\n      <td>-73.991567</td>\n      <td>40.758092</td>\n      <td>1</td>\n      <td>21</td>\n      <td>4</td>\n      <td>6</td>\n      <td>4</td>\n      <td>2012</td>\n      <td>...</td>\n      <td>1</td>\n      <td>0</td>\n      <td>0</td>\n      <td>0</td>\n      <td>0</td>\n      <td>0</td>\n      <td>1</td>\n      <td>0</td>\n      <td>0</td>\n      <td>0</td>\n    </tr>\n    <tr>\n      <th>4</th>\n      <td>-73.968095</td>\n      <td>40.768008</td>\n      <td>-73.956655</td>\n      <td>40.783762</td>\n      <td>1</td>\n      <td>9</td>\n      <td>7</td>\n      <td>2</td>\n      <td>3</td>\n      <td>2010</td>\n      <td>...</td>\n      <td>1</td>\n      <td>0</td>\n      <td>0</td>\n      <td>0</td>\n      <td>0</td>\n      <td>0</td>\n      <td>1</td>\n      <td>0</td>\n      <td>0</td>\n      <td>0</td>\n    </tr>\n  </tbody>\n</table>\n<p>5 rows × 31 columns</p>\n</div>"
     },
     "execution_count": 3,
     "metadata": {},
     "output_type": "execute_result"
    }
   ],
   "source": [
    "# a quick look at the data\n",
    "X.head()"
   ]
  },
  {
   "cell_type": "code",
   "execution_count": 4,
   "metadata": {},
   "outputs": [
    {
     "data": {
      "text/plain": "0     4.5\n1    16.9\n2     5.7\n3     7.7\n4     5.3\nName: fare_amount, dtype: float64"
     },
     "execution_count": 4,
     "metadata": {},
     "output_type": "execute_result"
    }
   ],
   "source": [
    "y.head()"
   ]
  },
  {
   "cell_type": "code",
   "execution_count": 5,
   "outputs": [
    {
     "data": {
      "text/plain": "count    400000.000000\nmean         11.339074\nstd           9.785912\nmin           0.000000\n25%           6.000000\n50%           8.500000\n75%          12.500000\nmax         500.000000\nName: fare_amount, dtype: float64"
     },
     "execution_count": 5,
     "metadata": {},
     "output_type": "execute_result"
    }
   ],
   "source": [
    "y.describe()"
   ],
   "metadata": {
    "collapsed": false,
    "pycharm": {
     "name": "#%%\n"
    }
   }
  },
  {
   "cell_type": "code",
   "execution_count": 6,
   "outputs": [
    {
     "data": {
      "text/plain": "(array([3.41759e+05, 4.21200e+04, 1.10220e+04, 4.38500e+03, 4.20000e+02,\n        1.43000e+02, 5.40000e+01, 4.10000e+01, 1.70000e+01, 1.50000e+01,\n        2.00000e+00, 4.00000e+00, 8.00000e+00, 1.00000e+00, 2.00000e+00,\n        1.00000e+00, 1.00000e+00, 0.00000e+00, 0.00000e+00, 0.00000e+00,\n        0.00000e+00, 0.00000e+00, 0.00000e+00, 0.00000e+00, 1.00000e+00,\n        0.00000e+00, 3.00000e+00, 0.00000e+00, 0.00000e+00, 1.00000e+00]),\n array([  0.        ,  16.66666667,  33.33333333,  50.        ,\n         66.66666667,  83.33333333, 100.        , 116.66666667,\n        133.33333333, 150.        , 166.66666667, 183.33333333,\n        200.        , 216.66666667, 233.33333333, 250.        ,\n        266.66666667, 283.33333333, 300.        , 316.66666667,\n        333.33333333, 350.        , 366.66666667, 383.33333333,\n        400.        , 416.66666667, 433.33333333, 450.        ,\n        466.66666667, 483.33333333, 500.        ]),\n <BarContainer object of 30 artists>)"
     },
     "execution_count": 6,
     "metadata": {},
     "output_type": "execute_result"
    },
    {
     "data": {
      "text/plain": "<Figure size 432x288 with 1 Axes>",
      "image/png": "[encoded data removed]"
     },
     "metadata": {
      "needs_background": "light"
     },
     "output_type": "display_data"
    }
   ],
   "source": [
    "import matplotlib.pyplot as plt\n",
    "\n",
    "fig, ax = plt.subplots(tight_layout=True)\n",
    "ax.hist(y, bins=30)\n"
   ],
   "metadata": {
    "collapsed": false,
    "pycharm": {
     "name": "#%%\n"
    }
   }
  },
  {
   "cell_type": "markdown",
   "metadata": {},
   "source": [
    "### E 2.1 Split data into train and test data\n",
    "* use data from 2009-1014 for training and 2015 for evaluation"
   ]
  },
  {
   "cell_type": "code",
   "execution_count": 7,
   "outputs": [],
   "source": [
    "from sklearn.model_selection import train_test_split\n",
    "train_mask = X['pickup_year'] <= 2014\n",
    "test_mask = X['pickup_year'] == 2015\n",
    "\n",
    "X_train = X[train_mask]\n",
    "y_train = y[train_mask]\n",
    "X_test = X[test_mask]\n",
    "y_test = y[test_mask]"
   ],
   "metadata": {
    "collapsed": false,
    "pycharm": {
     "name": "#%%\n"
    }
   }
  },
  {
   "cell_type": "markdown",
   "metadata": {},
   "source": [
    "### E 2.2 Train a Random Forest Regression Model\n",
    "* train model using [RF regression](https://scikit-learn.org/stable/modules/generated/sklearn.ensemble.RandomForestRegressor.html#sklearn.ensemble.RandomForestRegressor)\n",
    "* optimize the model parameters (#trees, depth, vars per split, ...) and evaluate the [MSE](https://scikit-learn.org/stable/modules/generated/sklearn.metrics.mean_squared_error.html#sklearn.metrics.mean_squared_error) on train and test data\n",
    "* Analyze the model error: are there typical settings where the model fails?"
   ]
  },
  {
   "cell_type": "code",
   "execution_count": 8,
   "metadata": {},
   "outputs": [
    {
     "data": {
      "text/plain": "RandomForestRegressor(n_estimators=50, n_jobs=-1)"
     },
     "execution_count": 8,
     "metadata": {},
     "output_type": "execute_result"
    }
   ],
   "source": [
    "from sklearn.ensemble import RandomForestRegressor\n",
    "regr = RandomForestRegressor(n_jobs=-1, n_estimators=50)\n",
    "regr.fit(X_train, y_train)"
   ]
  },
  {
   "cell_type": "code",
   "execution_count": 9,
   "outputs": [
    {
     "data": {
      "text/plain": "21.73773392127358"
     },
     "execution_count": 9,
     "metadata": {},
     "output_type": "execute_result"
    }
   ],
   "source": [
    "from sklearn.metrics import mean_squared_error\n",
    "pred = regr.predict(X_test)\n",
    "mean_squared_error(y_test, pred)\n"
   ],
   "metadata": {
    "collapsed": false,
    "pycharm": {
     "name": "#%%\n"
    }
   }
  },
  {
   "cell_type": "markdown",
   "source": [
    "- Default: MSE 21.101\n",
    "- n_estimators=50: MSE 21.11 (aber schneller)\n",
    "- n_estimators=30: MSE 22.09 (aber viel schneller) +++verworfen+++\n",
    "- max_depth=30: MSE 21.53 +++verworfen+++\n",
    "- max_depth=80: MSE 21.64 +++verworfen+++\n",
    "- max_depth=200: MSE 21.64 +++verworfen+++\n",
    "- min_samples_split=3: MSE 21.61 +++verworfen+++\n",
    "- min_samples_split=30: MSE 21.44 +++verworfen+++\n",
    "- min_samples_split=60: MSE 21.71 +++verworfen+++\n",
    "- min_samples_leaf=2: MSE 21.22 +++verworfen+++\n",
    "- min_samples_leaf=4: MSE 21.26 +++verworfen+++\n",
    "- min_samples_leaf=3: MSE 21.31 +++verworfen+++\n",
    "\n",
    "Keine Parametereinstellung brachte eine wesentliche Verbesserung"
   ],
   "metadata": {
    "collapsed": false,
    "pycharm": {
     "name": "#%% md\n"
    }
   }
  },
  {
   "cell_type": "code",
   "execution_count": 10,
   "outputs": [
    {
     "data": {
      "text/plain": "Text(0, 0.5, 'Predicted')"
     },
     "execution_count": 10,
     "metadata": {},
     "output_type": "execute_result"
    },
    {
     "data": {
      "text/plain": "<Figure size 432x288 with 1 Axes>",
      "image/png": "[encoded data removed]"
     },
     "metadata": {
      "needs_background": "light"
     },
     "output_type": "display_data"
    }
   ],
   "source": [
    "from scipy.stats import gaussian_kde\n",
    "\n",
    "fig, ax = plt.subplots(tight_layout=True)\n",
    "ax.plot([y_test.min(), y_test.max()],\n",
    "            [y_test.min(), y_test.max()],\n",
    "            '--r', linewidth=2)\n",
    "xy = np.vstack([y_test,pred])\n",
    "z = gaussian_kde(xy)(xy)\n",
    "ax.scatter(y_test,  pred, c=z)\n",
    "ax.spines['top'].set_visible(False)\n",
    "ax.spines['right'].set_visible(False)\n",
    "ax.get_xaxis().tick_bottom()\n",
    "ax.get_yaxis().tick_left()\n",
    "\n",
    "ax.set_xlabel('Measured')\n",
    "ax.set_ylabel('Predicted')\n"
   ],
   "metadata": {
    "collapsed": false,
    "pycharm": {
     "name": "#%%\n"
    }
   }
  },
  {
   "cell_type": "markdown",
   "source": [
    "Am besten funktioniert das Modell für den Bereich niedrigen Bereich. Hier gibts es auch die meisten Trainingsdaten.\n",
    "Es fällt auf dass im niedrigen Bereich bis ca 25 tendenziell zu hoch prädiktiert wird wohingegen danach\n",
    "eher zu niedrig Prädiktiert werden. Die Extremwerte bei 230 und 500 sind aufgrund fehlender Daten nicht gut prädiktiert.\n",
    "Man könnte Prüfen ob man durch Filterung der Ausgangsdaten auf das 75 oder 95 Quantil eine wesentliche Verbesserung\n",
    "erreichen könnte."
   ],
   "metadata": {
    "collapsed": false,
    "pycharm": {
     "name": "#%% md\n"
    }
   }
  }
 ],
 "metadata": {
  "kernelspec": {
   "display_name": "Python 3",
   "language": "python",
   "name": "python3"
  },
  "language_info": {
   "codemirror_mode": {
    "name": "ipython",
    "version": 3
   },
   "file_extension": ".py",
   "mimetype": "text/x-python",
   "name": "python",
   "nbconvert_exporter": "python",
   "pygments_lexer": "ipython3",
   "version": "3.7.6"
  }
 },
 "nbformat": 4,
 "nbformat_minor": 4
}