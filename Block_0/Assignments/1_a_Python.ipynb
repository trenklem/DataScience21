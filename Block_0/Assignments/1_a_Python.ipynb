{
 "cells": [
  {
   "cell_type": "markdown",
   "metadata": {},
   "source": [
    "# Exercise I: Your own Python module "
   ]
  },
  {
   "cell_type": "code",
   "execution_count": 18,
   "metadata": {},
   "outputs": [
    {
     "name": "stdout",
     "output_type": "stream",
     "text": [
      "running in Colab: False\n"
     ]
    }
   ],
   "source": [
    "#check if notebook runs in colab\n",
    "import sys\n",
    "IN_COLAB = 'google.colab' in sys.modules\n",
    "print('running in Colab:',IN_COLAB)\n",
    "path='..'\n",
    "if IN_COLAB:\n",
    "  #in colab, we need to clone the data from the repo\n",
    "  !git clone https://github.com/keuperj/DataScienceSS20.git\n",
    "  path='DataScienceSS20'\n",
    "  import sys\n",
    "  sys.path.append(path+'/Exercises/')"
   ]
  },
  {
   "cell_type": "markdown",
   "metadata": {},
   "source": [
    "Write your own python module (choose a name) with the following properties:\n",
    "\n",
    "1. start new python file for the module\n",
    "2. define a class ***ListKeeper*** with the following properties and API:\n",
    "   1. ***Listkeeper*** strores named lists (hint: use dictionaries) \n",
    "   2. it initializes with a list named *example*: [1,2,3,4,5]\n",
    "   3. ``show()`` returns all list names\n",
    "   4. ``add(name, list)`` adds a new list\n",
    "   5. ``delete(name)`` deletes list\n",
    "   6. ``sort(name)`` returns the sorted list *name*\n",
    "   7. ``append(name, list)`` appends *list* to *name* \n",
    "3. add comments and documentation to your class\n",
    "4. Import your module in this notebook\n",
    "5. write tests to check the functionality of your class "
   ]
  },
  {
   "cell_type": "code",
   "execution_count": 19,
   "outputs": [
    {
     "name": "stdout",
     "output_type": "stream",
     "text": [
      "Tests passed\n"
     ]
    }
   ],
   "source": [
    "# Init tests\n",
    "from list_keeper import ListKeeper, ListKeeperError\n",
    "\n",
    "def test_init_1():\n",
    "    \"\"\"\n",
    "    Inittialize list via constructor\n",
    "    :return: None\n",
    "    \"\"\"\n",
    "    li = ListKeeper(\"list\", [1,2,3,4])\n",
    "    keys = li.show()\n",
    "    assert len(keys) == 1\n",
    "\n",
    "def test_init_2():\n",
    "    \"\"\"\n",
    "    Inittialize list via constructor\n",
    "    :return: None\n",
    "    \"\"\"\n",
    "    li = ListKeeper()\n",
    "    keys = li.show()\n",
    "    assert len(keys) == 0\n",
    "\n",
    "test_init_1()\n",
    "test_init_2()\n",
    "print(\"Init tests passed\")"
   ],
   "metadata": {
    "collapsed": false,
    "pycharm": {
     "name": "#%%\n"
    }
   }
  },
  {
   "cell_type": "code",
   "execution_count": 20,
   "metadata": {},
   "outputs": [
    {
     "name": "stdout",
     "output_type": "stream",
     "text": [
      "Tests passed\n"
     ]
    }
   ],
   "source": [
    "# Add/show tests\n",
    "from list_keeper import ListKeeper, ListKeeperError\n",
    "\n",
    "\n",
    "def test_show_add_1():\n",
    "    \"\"\"\n",
    "    Add 3 items and check final count\n",
    "    :return: None\n",
    "    \"\"\"\n",
    "    li = ListKeeper()\n",
    "    cnt = 3\n",
    "    for i in range(0,cnt):\n",
    "        li.add(f\"list_{i}\", [])\n",
    "    keys = li.show()\n",
    "    assert len(keys) == cnt\n",
    "\n",
    "def test_show_add_2():\n",
    "    \"\"\"\n",
    "    Add 3 items and check if the keys are present\n",
    "    :return: None\n",
    "    \"\"\"\n",
    "    li = ListKeeper()\n",
    "    cnt = 3\n",
    "    for i in range(0,cnt):\n",
    "        li.add(f\"list_{i}\", [])\n",
    "    keys = li.show()\n",
    "    for i in range(0,cnt):\n",
    "        assert f\"list_{i}\" in keys\n",
    "\n",
    "def test_add_3():\n",
    "    \"\"\"\n",
    "    Add a duplicate key. Should raise a ListKeeperError\n",
    "    :return: None\n",
    "    \"\"\"\n",
    "    x = 0\n",
    "    li = ListKeeper()\n",
    "    li.add(f\"list\", [])\n",
    "    try:\n",
    "        li.add(f\"list\", [])\n",
    "    except ListKeeperError:\n",
    "        x = 1\n",
    "    assert x == 1\n",
    "\n",
    "test_show_add_1()\n",
    "test_show_add_2()\n",
    "test_add_3()\n",
    "print(\"Add/show tests passed\")"
   ]
  },
  {
   "cell_type": "code",
   "execution_count": 21,
   "outputs": [
    {
     "name": "stdout",
     "output_type": "stream",
     "text": [
      "Tests passed\n"
     ]
    }
   ],
   "source": [
    "# Delete tests\n",
    "from list_keeper import ListKeeper, ListKeeperError\n",
    "\n",
    "def test_delete_1():\n",
    "    \"\"\"\n",
    "    Add 3 items and delete them afterwards\n",
    "    :return: None\n",
    "    \"\"\"\n",
    "    li = ListKeeper()\n",
    "    cnt = 3\n",
    "    for i in range(0,cnt):\n",
    "        li.add(f\"list_{i}\", [])\n",
    "    for i in range(0,cnt):\n",
    "        li.delete(f\"list_{i}\")\n",
    "    keys = li.show()\n",
    "    assert len(keys) == 0\n",
    "\n",
    "def test_delete_2():\n",
    "    \"\"\"\n",
    "    Add 3 items and delete two of them\n",
    "    :return: None\n",
    "    \"\"\"\n",
    "    li = ListKeeper()\n",
    "    cnt = 3\n",
    "    for i in range(0,cnt):\n",
    "        li.add(f\"list_{i}\", [])\n",
    "    for i in range(1,cnt):\n",
    "        li.delete(f\"list_{i}\")\n",
    "    keys = li.show()\n",
    "    assert len(keys) == 1\n",
    "\n",
    "def test_delete_3():\n",
    "    \"\"\"\n",
    "    Delete a non existing list\n",
    "    :return: None\n",
    "    \"\"\"\n",
    "    li = ListKeeper()\n",
    "    cnt = 3\n",
    "    for i in range(0,cnt):\n",
    "        li.add(f\"list_{i}\", [])\n",
    "    li.delete(f\"blub\")\n",
    "    keys = li.show()\n",
    "    assert len(keys) == cnt\n",
    "\n",
    "test_delete_1()\n",
    "test_delete_2()\n",
    "test_delete_3()\n",
    "print(\"Delete tests passed\")"
   ],
   "metadata": {
    "collapsed": false,
    "pycharm": {
     "name": "#%%\n"
    }
   }
  },
  {
   "cell_type": "code",
   "execution_count": 22,
   "outputs": [
    {
     "name": "stdout",
     "output_type": "stream",
     "text": [
      "Tests passed\n"
     ]
    }
   ],
   "source": [
    "# Sort tests\n",
    "from list_keeper import ListKeeper, ListKeeperError\n",
    "import random\n",
    "\n",
    "def test_sort_1():\n",
    "    \"\"\"\n",
    "    Add 3 items and delete them afterwards\n",
    "    :return: None\n",
    "    \"\"\"\n",
    "    li = ListKeeper()\n",
    "    arr = []\n",
    "    key = \"list\"\n",
    "    for i in range(0, 1000):\n",
    "        arr.append(random.randint(0, 100))\n",
    "    li.add(key, arr)\n",
    "    sorted_arr = li.sort(key)\n",
    "    assert all(b >= a for a, b in zip(sorted_arr, sorted_arr[1:]))\n",
    "\n",
    "def test_sort_2():\n",
    "    \"\"\"\n",
    "    Sort a non existant list. Should raise a ListKeeperError\n",
    "    :return: None\n",
    "    \"\"\"\n",
    "    x = 0\n",
    "    li = ListKeeper()\n",
    "    try:\n",
    "        sorted_arr = li.sort(\"blub\")\n",
    "    except ListKeeperError:\n",
    "        x = 1\n",
    "    assert x == 1\n",
    "\n",
    "def test_sort_3():\n",
    "    \"\"\"\n",
    "    Sort an empty list\n",
    "    :return: None\n",
    "    \"\"\"\n",
    "    li = ListKeeper()\n",
    "    arr = []\n",
    "    key = \"list\"\n",
    "    li.add(key, arr)\n",
    "    sorted_arr = li.sort(key)\n",
    "    assert all(b >= a for a, b in zip(sorted_arr, sorted_arr[1:]))\n",
    "\n",
    "test_sort_1()\n",
    "test_sort_2()\n",
    "test_sort_3()\n",
    "print(\"Sort tests passed\")"
   ],
   "metadata": {
    "collapsed": false,
    "pycharm": {
     "name": "#%%\n"
    }
   }
  },
  {
   "cell_type": "code",
   "execution_count": 23,
   "outputs": [
    {
     "name": "stdout",
     "output_type": "stream",
     "text": [
      "Tests passed\n"
     ]
    }
   ],
   "source": [
    "# Append tests\n",
    "from list_keeper import ListKeeper, ListKeeperError\n",
    "def test_append_1():\n",
    "    \"\"\"\n",
    "\n",
    "    :return: None\n",
    "    \"\"\"\n",
    "    key = \"list\"\n",
    "    arr1 = [1,2,3,4,5]\n",
    "    arr2 = [6,7,8,9]\n",
    "    li = ListKeeper(key, arr1)\n",
    "    appended = li.append(key ,arr2)\n",
    "    assert len(appended) == len(arr1) + len(arr2)\n",
    "\n",
    "def test_append_2():\n",
    "    \"\"\"\n",
    "\n",
    "    :return: None\n",
    "    \"\"\"\n",
    "    key = \"list\"\n",
    "    arr1 = [1,2,3,4,5]\n",
    "    li = ListKeeper()\n",
    "    appended = li.append(key ,arr1)\n",
    "    assert len(appended) == len(arr1)\n",
    "\n",
    "test_append_1()\n",
    "test_append_2()\n",
    "print(\"Append tests passed\")"
   ],
   "metadata": {
    "collapsed": false,
    "pycharm": {
     "name": "#%%\n"
    }
   }
  }
 ],
 "metadata": {
  "kernelspec": {
   "display_name": "Python 3",
   "language": "python",
   "name": "python3"
  },
  "language_info": {
   "codemirror_mode": {
    "name": "ipython",
    "version": 3
   },
   "file_extension": ".py",
   "mimetype": "text/x-python",
   "name": "python",
   "nbconvert_exporter": "python",
   "pygments_lexer": "ipython3",
   "version": "3.7.6"
  }
 },
 "nbformat": 4,
 "nbformat_minor": 4
}